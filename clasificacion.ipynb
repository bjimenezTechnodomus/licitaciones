{
  "cells": [
    {
      "cell_type": "markdown",
      "metadata": {
        "colab_type": "text",
        "id": "view-in-github"
      },
      "source": [
        "<a href=\"https://colab.research.google.com/github/bjimenezTechnodomus/licitaciones/blob/main/clasificacion.ipynb\" target=\"_parent\"><img src=\"https://colab.research.google.com/assets/colab-badge.svg\" alt=\"Open In Colab\"/></a>"
      ]
    },
    {
      "cell_type": "code",
      "execution_count": 1,
      "metadata": {
        "id": "1Sj5s7VFtTjh"
      },
      "outputs": [],
      "source": [
        "import gspread\n",
        "\n",
        "import pandas as pd\n",
        "import re\n",
        "\n",
        "gc = gspread.service_account()"
      ]
    },
    {
      "cell_type": "code",
      "execution_count": 23,
      "metadata": {
        "colab": {
          "base_uri": "https://localhost:8080/",
          "height": 808
        },
        "id": "M-55WjBj79-B",
        "outputId": "d3b5a208-3d87-486e-a663-dd24771e2d70"
      },
      "outputs": [
        {
          "name": "stdout",
          "output_type": "stream",
          "text": [
            "<class 'pandas.core.frame.DataFrame'>\n",
            "Int64Index: 118779 entries, 1 to 118779\n",
            "Data columns (total 19 columns):\n",
            " #   Column                    Non-Null Count   Dtype \n",
            "---  ------                    --------------   ----- \n",
            " 0   Id_Partida                118779 non-null  object\n",
            " 1   Archivo_Origen            118779 non-null  object\n",
            " 2   Consecutivo               118779 non-null  object\n",
            " 3   Número del Procedimiento  118779 non-null  object\n",
            " 4   Tipo de Procedimiento     118779 non-null  object\n",
            " 5   Convocante                118779 non-null  object\n",
            " 6   Par- tida                 118779 non-null  object\n",
            " 7   Cantidad Mínima           118779 non-null  object\n",
            " 8   Cantidad Máxima           118779 non-null  object\n",
            " 9   Unidad                    118779 non-null  object\n",
            " 10  Descripción               118779 non-null  object\n",
            " 11  Descripción de la Clave   118779 non-null  object\n",
            " 12  Observaciones             118779 non-null  object\n",
            " 13  Grupo de productos        118779 non-null  object\n",
            " 14  Estaba equivocada         118779 non-null  object\n",
            " 15  Cuadro Básico             118779 non-null  object\n",
            " 16  Nos interesa              118779 non-null  object\n",
            " 17  Razones                   118779 non-null  object\n",
            " 18  Grupo Productos           118779 non-null  object\n",
            "dtypes: object(19)\n",
            "memory usage: 18.1+ MB\n"
          ]
        },
        {
          "data": {
            "text/plain": [
              "None"
            ]
          },
          "metadata": {},
          "output_type": "display_data"
        },
        {
          "data": {
            "text/html": [
              "<div>\n",
              "<style scoped>\n",
              "    .dataframe tbody tr th:only-of-type {\n",
              "        vertical-align: middle;\n",
              "    }\n",
              "\n",
              "    .dataframe tbody tr th {\n",
              "        vertical-align: top;\n",
              "    }\n",
              "\n",
              "    .dataframe thead th {\n",
              "        text-align: right;\n",
              "    }\n",
              "</style>\n",
              "<table border=\"1\" class=\"dataframe\">\n",
              "  <thead>\n",
              "    <tr style=\"text-align: right;\">\n",
              "      <th></th>\n",
              "      <th>Id_Partida</th>\n",
              "      <th>Archivo_Origen</th>\n",
              "      <th>Consecutivo</th>\n",
              "      <th>Número del Procedimiento</th>\n",
              "      <th>Tipo de Procedimiento</th>\n",
              "      <th>Convocante</th>\n",
              "      <th>Par- tida</th>\n",
              "      <th>Cantidad Mínima</th>\n",
              "      <th>Cantidad Máxima</th>\n",
              "      <th>Unidad</th>\n",
              "      <th>Descripción</th>\n",
              "      <th>Descripción de la Clave</th>\n",
              "      <th>Observaciones</th>\n",
              "      <th>Grupo de productos</th>\n",
              "      <th>Estaba equivocada</th>\n",
              "      <th>Cuadro Básico</th>\n",
              "      <th>Nos interesa</th>\n",
              "      <th>Razones</th>\n",
              "      <th>Grupo Productos</th>\n",
              "    </tr>\n",
              "  </thead>\n",
              "  <tbody>\n",
              "    <tr>\n",
              "      <th>count</th>\n",
              "      <td>118779</td>\n",
              "      <td>118779</td>\n",
              "      <td>118779</td>\n",
              "      <td>118779</td>\n",
              "      <td>118779</td>\n",
              "      <td>118779</td>\n",
              "      <td>118779</td>\n",
              "      <td>118779</td>\n",
              "      <td>118779</td>\n",
              "      <td>118779</td>\n",
              "      <td>118779</td>\n",
              "      <td>118779</td>\n",
              "      <td>118779</td>\n",
              "      <td>118779</td>\n",
              "      <td>118779</td>\n",
              "      <td>118779</td>\n",
              "      <td>118779</td>\n",
              "      <td>118779</td>\n",
              "      <td>118779</td>\n",
              "    </tr>\n",
              "    <tr>\n",
              "      <th>unique</th>\n",
              "      <td>117224</td>\n",
              "      <td>58</td>\n",
              "      <td>5428</td>\n",
              "      <td>4009</td>\n",
              "      <td>5</td>\n",
              "      <td>445</td>\n",
              "      <td>1184</td>\n",
              "      <td>1275</td>\n",
              "      <td>5271</td>\n",
              "      <td>3725</td>\n",
              "      <td>82576</td>\n",
              "      <td>13</td>\n",
              "      <td>4</td>\n",
              "      <td>14</td>\n",
              "      <td>4</td>\n",
              "      <td>15040</td>\n",
              "      <td>2</td>\n",
              "      <td>50</td>\n",
              "      <td>36</td>\n",
              "    </tr>\n",
              "    <tr>\n",
              "      <th>top</th>\n",
              "      <td>11cNMT7STJJ9BS-1dCK-Rxx6ilFLFmvHB8kqhFfPnj8Y00...</td>\n",
              "      <td>1OAk_gdJojr40Hi2f8FNzChB_Psr7ZQYQ82Nw7ozUUpI</td>\n",
              "      <td>1</td>\n",
              "      <td>LA-008IZC999-E632-2021</td>\n",
              "      <td>Adjudicación Directa</td>\n",
              "      <td>IMSS-Coordinación de Abastecimiento y Equipami...</td>\n",
              "      <td>1</td>\n",
              "      <td></td>\n",
              "      <td>1</td>\n",
              "      <td></td>\n",
              "      <td>060.168.6637.11 SONDAS DE LATEX, PUNTA REDONDA...</td>\n",
              "      <td>Material de Curación</td>\n",
              "      <td></td>\n",
              "      <td>No incluye</td>\n",
              "      <td>No</td>\n",
              "      <td></td>\n",
              "      <td></td>\n",
              "      <td></td>\n",
              "      <td></td>\n",
              "    </tr>\n",
              "    <tr>\n",
              "      <th>freq</th>\n",
              "      <td>2</td>\n",
              "      <td>5428</td>\n",
              "      <td>60</td>\n",
              "      <td>1089</td>\n",
              "      <td>46615</td>\n",
              "      <td>5382</td>\n",
              "      <td>3606</td>\n",
              "      <td>100398</td>\n",
              "      <td>20122</td>\n",
              "      <td>18977</td>\n",
              "      <td>59</td>\n",
              "      <td>67198</td>\n",
              "      <td>118105</td>\n",
              "      <td>116522</td>\n",
              "      <td>118150</td>\n",
              "      <td>49261</td>\n",
              "      <td>99464</td>\n",
              "      <td>90345</td>\n",
              "      <td>116985</td>\n",
              "    </tr>\n",
              "  </tbody>\n",
              "</table>\n",
              "</div>"
            ],
            "text/plain": [
              "0                                              Id_Partida  \\\n",
              "count                                              118779   \n",
              "unique                                             117224   \n",
              "top     11cNMT7STJJ9BS-1dCK-Rxx6ilFLFmvHB8kqhFfPnj8Y00...   \n",
              "freq                                                    2   \n",
              "\n",
              "0                                     Archivo_Origen Consecutivo  \\\n",
              "count                                         118779      118779   \n",
              "unique                                            58        5428   \n",
              "top     1OAk_gdJojr40Hi2f8FNzChB_Psr7ZQYQ82Nw7ozUUpI           1   \n",
              "freq                                            5428          60   \n",
              "\n",
              "0      Número del Procedimiento Tipo de Procedimiento  \\\n",
              "count                    118779                118779   \n",
              "unique                     4009                     5   \n",
              "top      LA-008IZC999-E632-2021  Adjudicación Directa   \n",
              "freq                       1089                 46615   \n",
              "\n",
              "0                                              Convocante Par- tida  \\\n",
              "count                                              118779    118779   \n",
              "unique                                                445      1184   \n",
              "top     IMSS-Coordinación de Abastecimiento y Equipami...         1   \n",
              "freq                                                 5382      3606   \n",
              "\n",
              "0      Cantidad Mínima Cantidad Máxima  Unidad  \\\n",
              "count           118779          118779  118779   \n",
              "unique            1275            5271    3725   \n",
              "top                                  1           \n",
              "freq            100398           20122   18977   \n",
              "\n",
              "0                                             Descripción  \\\n",
              "count                                              118779   \n",
              "unique                                              82576   \n",
              "top     060.168.6637.11 SONDAS DE LATEX, PUNTA REDONDA...   \n",
              "freq                                                   59   \n",
              "\n",
              "0      Descripción de la Clave Observaciones Grupo de productos  \\\n",
              "count                   118779        118779             118779   \n",
              "unique                      13             4                 14   \n",
              "top       Material de Curación                       No incluye   \n",
              "freq                     67198        118105             116522   \n",
              "\n",
              "0      Estaba equivocada Cuadro Básico Nos interesa Razones Grupo Productos  \n",
              "count             118779        118779       118779  118779          118779  \n",
              "unique                 4         15040            2      50              36  \n",
              "top                   No                                                     \n",
              "freq              118150         49261        99464   90345          116985  "
            ]
          },
          "metadata": {},
          "output_type": "display_data"
        }
      ],
      "source": [
        "worksheet = gc.open('Total partidas').sheet1\n",
        "\n",
        "rows = worksheet.get_all_values()\n",
        "\n",
        "data = pd.DataFrame.from_records(rows)\n",
        "data.columns = data.iloc[0]\n",
        "data.drop(0, inplace=True)\n",
        "display(data.info())\n",
        "display(data.describe())"
      ]
    },
    {
      "cell_type": "code",
      "execution_count": 25,
      "metadata": {
        "id": "_nh3QYGam1Nr"
      },
      "outputs": [
        {
          "ename": "KeyError",
          "evalue": "\"None of [Index(['Id_Partida', 'Convocante', 'Descripción', 'Descripción de la Clave',\\n       'Grupo de productos', 'Cuadro Básico', 'Nos interesa',\\n       'Grupo Productos'],\\n      dtype='object')] are in the [columns]\"",
          "output_type": "error",
          "traceback": [
            "\u001b[0;31m---------------------------------------------------------------------------\u001b[0m",
            "\u001b[0;31mKeyError\u001b[0m                                  Traceback (most recent call last)",
            "\u001b[0;32m/tmp/ipykernel_83740/973644359.py\u001b[0m in \u001b[0;36m<module>\u001b[0;34m\u001b[0m\n\u001b[0;32m----> 1\u001b[0;31m \u001b[0mdata\u001b[0m \u001b[0;34m=\u001b[0m \u001b[0mdata\u001b[0m\u001b[0;34m[\u001b[0m\u001b[0;34m[\u001b[0m\u001b[0;34m'Id_Partida'\u001b[0m\u001b[0;34m,\u001b[0m \u001b[0;34m'Convocante'\u001b[0m\u001b[0;34m,\u001b[0m \u001b[0;34m'Descripción'\u001b[0m\u001b[0;34m,\u001b[0m \u001b[0;34m'Descripción de la Clave'\u001b[0m\u001b[0;34m,\u001b[0m \u001b[0;34m'Grupo de productos'\u001b[0m\u001b[0;34m,\u001b[0m \u001b[0;34m'Cuadro Básico'\u001b[0m\u001b[0;34m,\u001b[0m \u001b[0;34m'Nos interesa'\u001b[0m\u001b[0;34m,\u001b[0m \u001b[0;34m'Grupo Productos'\u001b[0m\u001b[0;34m]\u001b[0m\u001b[0;34m]\u001b[0m\u001b[0;34m\u001b[0m\u001b[0;34m\u001b[0m\u001b[0m\n\u001b[0m\u001b[1;32m      2\u001b[0m \u001b[0mdata\u001b[0m\u001b[0;34m.\u001b[0m\u001b[0mcolumns\u001b[0m \u001b[0;34m=\u001b[0m \u001b[0;34m[\u001b[0m\u001b[0;34m'id'\u001b[0m\u001b[0;34m,\u001b[0m \u001b[0;34m'convocante'\u001b[0m\u001b[0;34m,\u001b[0m \u001b[0;34m'descripcion'\u001b[0m\u001b[0;34m,\u001b[0m \u001b[0;34m'clave'\u001b[0m\u001b[0;34m,\u001b[0m \u001b[0;34m'grupo_1'\u001b[0m\u001b[0;34m,\u001b[0m \u001b[0;34m'cuadro_basico'\u001b[0m\u001b[0;34m,\u001b[0m \u001b[0;34m'interes'\u001b[0m\u001b[0;34m,\u001b[0m \u001b[0;34m'grupo_2'\u001b[0m\u001b[0;34m]\u001b[0m\u001b[0;34m\u001b[0m\u001b[0;34m\u001b[0m\u001b[0m\n\u001b[1;32m      3\u001b[0m \u001b[0mdata\u001b[0m\u001b[0;34m[\u001b[0m\u001b[0;34m'cuadro_2'\u001b[0m\u001b[0;34m]\u001b[0m \u001b[0;34m=\u001b[0m \u001b[0mdata\u001b[0m\u001b[0;34m[\u001b[0m\u001b[0;34m'descripcion'\u001b[0m\u001b[0;34m]\u001b[0m\u001b[0;34m.\u001b[0m\u001b[0mstr\u001b[0m\u001b[0;34m.\u001b[0m\u001b[0mextract\u001b[0m\u001b[0;34m(\u001b[0m\u001b[0;34mr'(\\d{3}[\\.\\s-]\\d{3}[\\.\\s-]\\d{4})'\u001b[0m\u001b[0;34m)\u001b[0m\u001b[0;34m.\u001b[0m\u001b[0mreplace\u001b[0m\u001b[0;34m(\u001b[0m\u001b[0;34mr'[\\s-]'\u001b[0m\u001b[0;34m,\u001b[0m \u001b[0;34m'.'\u001b[0m\u001b[0;34m)\u001b[0m\u001b[0;34m\u001b[0m\u001b[0;34m\u001b[0m\u001b[0m\n\u001b[1;32m      4\u001b[0m \u001b[0mCATEGORIAS\u001b[0m \u001b[0;34m=\u001b[0m \u001b[0;34m[\u001b[0m\u001b[0;34m'grupo_1'\u001b[0m\u001b[0;34m,\u001b[0m \u001b[0;34m'clave'\u001b[0m\u001b[0;34m,\u001b[0m \u001b[0;34m'interes'\u001b[0m\u001b[0;34m,\u001b[0m \u001b[0;34m'grupo_2'\u001b[0m\u001b[0;34m]\u001b[0m\u001b[0;34m\u001b[0m\u001b[0;34m\u001b[0m\u001b[0m\n\u001b[1;32m      5\u001b[0m \u001b[0mdata\u001b[0m\u001b[0;34m[\u001b[0m\u001b[0;34m'grupo_2'\u001b[0m\u001b[0;34m]\u001b[0m \u001b[0;34m=\u001b[0m \u001b[0mdata\u001b[0m\u001b[0;34m[\u001b[0m\u001b[0;34m'grupo_2'\u001b[0m\u001b[0;34m]\u001b[0m\u001b[0;34m.\u001b[0m\u001b[0mstr\u001b[0m\u001b[0;34m.\u001b[0m\u001b[0mlower\u001b[0m\u001b[0;34m(\u001b[0m\u001b[0;34m)\u001b[0m\u001b[0;34m\u001b[0m\u001b[0;34m\u001b[0m\u001b[0m\n",
            "\u001b[0;32m~/.local/lib/python3.9/site-packages/pandas/core/frame.py\u001b[0m in \u001b[0;36m__getitem__\u001b[0;34m(self, key)\u001b[0m\n\u001b[1;32m   3459\u001b[0m             \u001b[0;32mif\u001b[0m \u001b[0mis_iterator\u001b[0m\u001b[0;34m(\u001b[0m\u001b[0mkey\u001b[0m\u001b[0;34m)\u001b[0m\u001b[0;34m:\u001b[0m\u001b[0;34m\u001b[0m\u001b[0;34m\u001b[0m\u001b[0m\n\u001b[1;32m   3460\u001b[0m                 \u001b[0mkey\u001b[0m \u001b[0;34m=\u001b[0m \u001b[0mlist\u001b[0m\u001b[0;34m(\u001b[0m\u001b[0mkey\u001b[0m\u001b[0;34m)\u001b[0m\u001b[0;34m\u001b[0m\u001b[0;34m\u001b[0m\u001b[0m\n\u001b[0;32m-> 3461\u001b[0;31m             \u001b[0mindexer\u001b[0m \u001b[0;34m=\u001b[0m \u001b[0mself\u001b[0m\u001b[0;34m.\u001b[0m\u001b[0mloc\u001b[0m\u001b[0;34m.\u001b[0m\u001b[0m_get_listlike_indexer\u001b[0m\u001b[0;34m(\u001b[0m\u001b[0mkey\u001b[0m\u001b[0;34m,\u001b[0m \u001b[0maxis\u001b[0m\u001b[0;34m=\u001b[0m\u001b[0;36m1\u001b[0m\u001b[0;34m)\u001b[0m\u001b[0;34m[\u001b[0m\u001b[0;36m1\u001b[0m\u001b[0;34m]\u001b[0m\u001b[0;34m\u001b[0m\u001b[0;34m\u001b[0m\u001b[0m\n\u001b[0m\u001b[1;32m   3462\u001b[0m \u001b[0;34m\u001b[0m\u001b[0m\n\u001b[1;32m   3463\u001b[0m         \u001b[0;31m# take() does not accept boolean indexers\u001b[0m\u001b[0;34m\u001b[0m\u001b[0;34m\u001b[0m\u001b[0;34m\u001b[0m\u001b[0m\n",
            "\u001b[0;32m~/.local/lib/python3.9/site-packages/pandas/core/indexing.py\u001b[0m in \u001b[0;36m_get_listlike_indexer\u001b[0;34m(self, key, axis)\u001b[0m\n\u001b[1;32m   1312\u001b[0m             \u001b[0mkeyarr\u001b[0m\u001b[0;34m,\u001b[0m \u001b[0mindexer\u001b[0m\u001b[0;34m,\u001b[0m \u001b[0mnew_indexer\u001b[0m \u001b[0;34m=\u001b[0m \u001b[0max\u001b[0m\u001b[0;34m.\u001b[0m\u001b[0m_reindex_non_unique\u001b[0m\u001b[0;34m(\u001b[0m\u001b[0mkeyarr\u001b[0m\u001b[0;34m)\u001b[0m\u001b[0;34m\u001b[0m\u001b[0;34m\u001b[0m\u001b[0m\n\u001b[1;32m   1313\u001b[0m \u001b[0;34m\u001b[0m\u001b[0m\n\u001b[0;32m-> 1314\u001b[0;31m         \u001b[0mself\u001b[0m\u001b[0;34m.\u001b[0m\u001b[0m_validate_read_indexer\u001b[0m\u001b[0;34m(\u001b[0m\u001b[0mkeyarr\u001b[0m\u001b[0;34m,\u001b[0m \u001b[0mindexer\u001b[0m\u001b[0;34m,\u001b[0m \u001b[0maxis\u001b[0m\u001b[0;34m)\u001b[0m\u001b[0;34m\u001b[0m\u001b[0;34m\u001b[0m\u001b[0m\n\u001b[0m\u001b[1;32m   1315\u001b[0m \u001b[0;34m\u001b[0m\u001b[0m\n\u001b[1;32m   1316\u001b[0m         if needs_i8_conversion(ax.dtype) or isinstance(\n",
            "\u001b[0;32m~/.local/lib/python3.9/site-packages/pandas/core/indexing.py\u001b[0m in \u001b[0;36m_validate_read_indexer\u001b[0;34m(self, key, indexer, axis)\u001b[0m\n\u001b[1;32m   1372\u001b[0m                 \u001b[0;32mif\u001b[0m \u001b[0muse_interval_msg\u001b[0m\u001b[0;34m:\u001b[0m\u001b[0;34m\u001b[0m\u001b[0;34m\u001b[0m\u001b[0m\n\u001b[1;32m   1373\u001b[0m                     \u001b[0mkey\u001b[0m \u001b[0;34m=\u001b[0m \u001b[0mlist\u001b[0m\u001b[0;34m(\u001b[0m\u001b[0mkey\u001b[0m\u001b[0;34m)\u001b[0m\u001b[0;34m\u001b[0m\u001b[0;34m\u001b[0m\u001b[0m\n\u001b[0;32m-> 1374\u001b[0;31m                 \u001b[0;32mraise\u001b[0m \u001b[0mKeyError\u001b[0m\u001b[0;34m(\u001b[0m\u001b[0;34mf\"None of [{key}] are in the [{axis_name}]\"\u001b[0m\u001b[0;34m)\u001b[0m\u001b[0;34m\u001b[0m\u001b[0;34m\u001b[0m\u001b[0m\n\u001b[0m\u001b[1;32m   1375\u001b[0m \u001b[0;34m\u001b[0m\u001b[0m\n\u001b[1;32m   1376\u001b[0m             \u001b[0mnot_found\u001b[0m \u001b[0;34m=\u001b[0m \u001b[0mlist\u001b[0m\u001b[0;34m(\u001b[0m\u001b[0mensure_index\u001b[0m\u001b[0;34m(\u001b[0m\u001b[0mkey\u001b[0m\u001b[0;34m)\u001b[0m\u001b[0;34m[\u001b[0m\u001b[0mmissing_mask\u001b[0m\u001b[0;34m.\u001b[0m\u001b[0mnonzero\u001b[0m\u001b[0;34m(\u001b[0m\u001b[0;34m)\u001b[0m\u001b[0;34m[\u001b[0m\u001b[0;36m0\u001b[0m\u001b[0;34m]\u001b[0m\u001b[0;34m]\u001b[0m\u001b[0;34m.\u001b[0m\u001b[0munique\u001b[0m\u001b[0;34m(\u001b[0m\u001b[0;34m)\u001b[0m\u001b[0;34m)\u001b[0m\u001b[0;34m\u001b[0m\u001b[0;34m\u001b[0m\u001b[0m\n",
            "\u001b[0;31mKeyError\u001b[0m: \"None of [Index(['Id_Partida', 'Convocante', 'Descripción', 'Descripción de la Clave',\\n       'Grupo de productos', 'Cuadro Básico', 'Nos interesa',\\n       'Grupo Productos'],\\n      dtype='object')] are in the [columns]\""
          ]
        }
      ],
      "source": [
        "data = data[['Id_Partida', 'Convocante', 'Descripción', 'Descripción de la Clave', 'Grupo de productos', 'Cuadro Básico', 'Nos interesa', 'Grupo Productos']]\n",
        "data.columns = ['id', 'convocante', 'descripcion', 'clave', 'grupo_1', 'cuadro_basico', 'interes', 'grupo_2']\n",
        "data['cuadro_2'] = data['descripcion'].str.extract(r'(\\d{3}[\\.\\s-]\\d{3}[\\.\\s-]\\d{4})').replace(r'[\\s-]', '.')\n",
        "CATEGORIAS = ['grupo_1', 'clave', 'interes', 'grupo_2']\n",
        "data['grupo_2'] = data['grupo_2'].str.lower()\n",
        "data['descripcion'] = data['descripcion'].str.lower()\n",
        "data['grupo_2'][data['grupo_2'] == 'desinfectantes'] = 'lavado'\n",
        "data['grupo_2'][data['grupo_2'] == 'contenedores'] = 'lavado'\n",
        "data['grupo_2'][data['grupo_2'] == 'lavado y cuidado de instrumental'] = 'lavado'\n",
        "data['grupo_2'][data['grupo_2'] == 'lavadoras termodesinfectoras'] = 'lavado'\n",
        "data['grupo_2'][data['grupo_2'] == 'película y químicos dental'] = 'filme plano'\n",
        "data['grupo_2'][data['grupo_2'] == 'lavadoras ultrasónicas'] = 'lavado'\n",
        "data['grupo_2'][data['grupo_2'] == 'lavadoras ultrasonicas'] = 'lavado'\n",
        "data['grupo_2'][data['grupo_2'] == 'reveladoras y casetas análogas'] = 'filme plano'\n",
        "data['grupo_2'][data['grupo_2'] == 'bolsa / rollo material no tejido'] = 'envoltura material no tejido'\n",
        "data['grupo_2'][data['grupo_2'] == 'cr'] = 'rayos x digital'\n",
        "data['grupo_2'][data['grupo_2'] == 'mesa de rayos x'] = 'rayos x digital'\n",
        "data['grupo_2'][data['grupo_2'] == 'mastografias'] = 'mastografía'\n",
        "data['grupo_2'][data['grupo_2'] == 'pelicula dry'] = 'película dry'\n",
        "data.loc[49804, 'grupo_2'] == 'indicadores biológicos'\n",
        "data.loc[72386, 'grupo_2'] == 'indicadores biológicos'\n",
        "data['grupo_2'][data['grupo_2'] == 'retos ind. quimico'] = 'indicadores biológicos'\n",
        "data['grupo_2'][data['grupo_2'] == 'bolsa / rollo material no tejido'] = 'envoltura material no tejido'\n",
        "data[CATEGORIAS] = data[CATEGORIAS].apply(lambda x: x.astype('category'), axis=0)\n",
        "categorias_dumies = pd.get_dummies(data[CATEGORIAS])\n",
        "grupo_tech = pd.get_dummies(data['grupo_1'])"
      ]
    },
    {
      "cell_type": "code",
      "execution_count": 26,
      "metadata": {
        "colab": {
          "base_uri": "https://localhost:8080/"
        },
        "id": "p1daETJmPvCv",
        "outputId": "8e016042-aa69-4119-a11d-344ca35e0a39"
      },
      "outputs": [
        {
          "data": {
            "text/plain": [
              "                                116985\n",
              "bolsa / rollo mixta papel          772\n",
              "indicadores biológicos             198\n",
              "vapor                              118\n",
              "indicadores químicos               114\n",
              "plasma                             112\n",
              "mastografía                         89\n",
              "indicadores biologicos              66\n",
              "lavado                              62\n",
              "rayos x digital                     42\n",
              "selladoras                          38\n",
              "envoltura material no tejido        35\n",
              "bolsa / rollo tyvek                 32\n",
              "indicadores quimicos                30\n",
              "filme plano                         26\n",
              "película dry                        24\n",
              "incubadoras                         20\n",
              "licenciamiento                      16\n",
              "Name: grupo_2, dtype: int64"
            ]
          },
          "execution_count": 26,
          "metadata": {},
          "output_type": "execute_result"
        }
      ],
      "source": [
        "data['grupo_2'].value_counts()"
      ]
    },
    {
      "cell_type": "code",
      "execution_count": 27,
      "metadata": {
        "id": "Et93mVfHFqUX"
      },
      "outputs": [],
      "source": [
        "y = data['grupo_2']\n",
        "X = data.drop('grupo_2', axis=1)\n",
        "from sklearn.model_selection import StratifiedShuffleSplit\n",
        "split = StratifiedShuffleSplit(n_splits=1, test_size=0.2, random_state=42)\n",
        "for train_index, test_index in split.split(X, y):\n",
        "  X_train = X.iloc[train_index]\n",
        "  X_test = X.iloc[test_index]\n",
        "  y_train = y.iloc[train_index]\n",
        "  y_test = y.iloc[test_index]\n"
      ]
    },
    {
      "cell_type": "code",
      "execution_count": 37,
      "metadata": {
        "colab": {
          "base_uri": "https://localhost:8080/",
          "height": 34
        },
        "id": "nj0LUZqbz1MG",
        "outputId": "dac19f2d-18ba-419c-b1bb-3428b0f4d812"
      },
      "outputs": [
        {
          "data": {
            "text/plain": [
              "Pipeline(steps=[('vec', CountVectorizer(token_pattern='[A-Za-z0-9]+(?=\\\\s+)')),\n",
              "                ('clf',\n",
              "                 OneVsRestClassifier(estimator=LogisticRegression(max_iter=200)))])"
            ]
          },
          "execution_count": 37,
          "metadata": {},
          "output_type": "execute_result"
        }
      ],
      "source": [
        "from sklearn.pipeline import Pipeline\n",
        "from sklearn.feature_extraction.text import CountVectorizer\n",
        "from sklearn.linear_model import LogisticRegression\n",
        "from sklearn.multiclass import OneVsRestClassifier\n",
        "\n",
        "tokens = '[A-Za-z0-9]+(?=\\\\s+)'\n",
        "\n",
        "X_train['descripcion'].fillna('', inplace=True)\n",
        "\n",
        "vectorizer = CountVectorizer(token_pattern= tokens)\n",
        "vectorizer.fit_transform(X_train['descripcion'])\n",
        "\n",
        "pl = Pipeline([\n",
        "    ('vec', CountVectorizer(token_pattern = tokens)),\n",
        "    ('clf', OneVsRestClassifier(LogisticRegression(max_iter=200)))\n",
        "])\n",
        "\n",
        "pl.fit(X_train['descripcion'], y_train)"
      ]
    },
    {
      "cell_type": "code",
      "execution_count": 70,
      "metadata": {},
      "outputs": [
        {
          "name": "stderr",
          "output_type": "stream",
          "text": [
            "/home/mauricio/.local/lib/python3.9/site-packages/pandas/core/frame.py:4901: SettingWithCopyWarning: \n",
            "A value is trying to be set on a copy of a slice from a DataFrame\n",
            "\n",
            "See the caveats in the documentation: https://pandas.pydata.org/pandas-docs/stable/user_guide/indexing.html#returning-a-view-versus-a-copy\n",
            "  return super().drop(\n"
          ]
        },
        {
          "data": {
            "text/plain": [
              "Pipeline(steps=[('vec', CountVectorizer(token_pattern='[A-Za-z0-9]+(?=\\\\s+)')),\n",
              "                ('clf',\n",
              "                 OneVsRestClassifier(estimator=LogisticRegression(max_iter=200)))])"
            ]
          },
          "execution_count": 70,
          "metadata": {},
          "output_type": "execute_result"
        }
      ],
      "source": [
        "import numpy as np\n",
        "\n",
        "data2 = data.sort_values('grupo_2')\n",
        "no_producto = data2.iloc[0:116984]\n",
        "productos = data2.iloc[116985:]\n",
        "drops = np.random.choice(no_producto.index, 100000, replace=False)\n",
        "no_producto.drop(drops, inplace=True)\n",
        "data2 = pd.concat([no_producto, productos])\n",
        "X2 = data2.drop('grupo_2', axis=1)\n",
        "y2 = data2['grupo_2']\n",
        "X2['descripcion'].fillna('', inplace=True)\n",
        "vec = CountVectorizer(token_pattern=tokens)\n",
        "vec.fit_transform(X_train['descripcion'])\n",
        "pl.fit(X2['descripcion'], y2)\n"
      ]
    },
    {
      "cell_type": "code",
      "execution_count": 74,
      "metadata": {},
      "outputs": [],
      "source": [
        "data2[['descripcion', 'cuadro_2', 'grupo_2']].to_csv('datos_entrenamiento.csv', index=False)\n"
      ]
    },
    {
      "cell_type": "markdown",
      "metadata": {
        "id": "2gJCJZdqlNls"
      },
      "source": [
        "# Clasificación con Spacy\n",
        "\n",
        "Una prueba para mejorar el modelo usando los modelos preentrenados de spacy"
      ]
    },
    {
      "cell_type": "code",
      "execution_count": null,
      "metadata": {
        "id": "UStTKCsQNgYn"
      },
      "outputs": [],
      "source": [
        "# Ejemplo usando Spacy para la clasificacción de las partidas\n",
        "!pip install --upgrade spacy"
      ]
    },
    {
      "cell_type": "code",
      "execution_count": 8,
      "metadata": {
        "id": "t1InON0rhj-x"
      },
      "outputs": [],
      "source": [
        "import spacy\n",
        "nlp = spacy.blank('es')\n",
        "textcat = nlp.add_pipe('textcat')\n",
        "labels = data['grupo_2'].unique()\n",
        "for label in labels:\n",
        "  textcat.add_label(label)\n",
        "\n",
        "train_text = data['descripcion'].values\n",
        "train_labels = [{'cats': {label: case == label for label in labels}} for case in data['grupo_2']]\n",
        "train_data = list(zip(train_text, train_labels))\n",
        "train_data[:3]"
      ]
    },
    {
      "cell_type": "code",
      "execution_count": 10,
      "metadata": {
        "id": "-BHke_Pmw3HE"
      },
      "outputs": [],
      "source": [
        "from spacy.util import minibatch\n",
        "from spacy.training.example import Example \n",
        "\n",
        "spacy.util.fix_random_seed(1)\n",
        "optimizer = nlp.begin_training()\n",
        "\n",
        "batches = minibatch(train_data, size=10)\n",
        "for batch in batches:\n",
        "  for text, labels in batch:\n",
        "    doc = nlp.make_doc(text)\n",
        "    example = Example.from_dict(doc, labels)\n",
        "    nlp.update([example], sgd=optimizer)"
      ]
    },
    {
      "cell_type": "markdown",
      "metadata": {
        "id": "mGhQXoTvNK0t"
      },
      "source": [
        "## Ejemplo de aplicación del modelado\n",
        "\n",
        "Este es un ejemplo del uso del algoritmo en un archivo anterior de partidas."
      ]
    },
    {
      "cell_type": "code",
      "execution_count": 13,
      "metadata": {
        "colab": {
          "base_uri": "https://localhost:8080/",
          "height": 235
        },
        "id": "P40Xk41TA6uX",
        "outputId": "f3ef71f0-ffd6-41ca-fb03-be00cfb4fd84"
      },
      "outputs": [
        {
          "data": {
            "text/html": [
              "<div>\n",
              "<style scoped>\n",
              "    .dataframe tbody tr th:only-of-type {\n",
              "        vertical-align: middle;\n",
              "    }\n",
              "\n",
              "    .dataframe tbody tr th {\n",
              "        vertical-align: top;\n",
              "    }\n",
              "\n",
              "    .dataframe thead th {\n",
              "        text-align: right;\n",
              "    }\n",
              "</style>\n",
              "<table border=\"1\" class=\"dataframe\">\n",
              "  <thead>\n",
              "    <tr style=\"text-align: right;\">\n",
              "      <th></th>\n",
              "      <th>Número del Procedimiento</th>\n",
              "      <th>Tipo de Procedimiento</th>\n",
              "      <th>Convocante</th>\n",
              "      <th>Par- tida</th>\n",
              "      <th>Cantidad Mínima</th>\n",
              "      <th>Cantidad Máxima</th>\n",
              "      <th>Unidad</th>\n",
              "      <th>Descripción</th>\n",
              "      <th>Descripción de la Clave</th>\n",
              "      <th>Observaciones</th>\n",
              "    </tr>\n",
              "  </thead>\n",
              "  <tbody>\n",
              "    <tr>\n",
              "      <th>count</th>\n",
              "      <td>770</td>\n",
              "      <td>770</td>\n",
              "      <td>770</td>\n",
              "      <td>770</td>\n",
              "      <td>770</td>\n",
              "      <td>770</td>\n",
              "      <td>770</td>\n",
              "      <td>770</td>\n",
              "      <td>770</td>\n",
              "      <td>770</td>\n",
              "    </tr>\n",
              "    <tr>\n",
              "      <th>unique</th>\n",
              "      <td>33</td>\n",
              "      <td>5</td>\n",
              "      <td>21</td>\n",
              "      <td>365</td>\n",
              "      <td>1</td>\n",
              "      <td>145</td>\n",
              "      <td>182</td>\n",
              "      <td>768</td>\n",
              "      <td>9</td>\n",
              "      <td>2</td>\n",
              "    </tr>\n",
              "    <tr>\n",
              "      <th>top</th>\n",
              "      <td>LP-919044992-I35-2017</td>\n",
              "      <td>Licitación</td>\n",
              "      <td>SERVICIOS DE SALUD DE NUEVO LEON 0.P.D.</td>\n",
              "      <td>1</td>\n",
              "      <td></td>\n",
              "      <td>2</td>\n",
              "      <td>FRASCO  C/1</td>\n",
              "      <td>080.830.5247.10.01 violeta cristal (violeta de...</td>\n",
              "      <td>Material de Laboratorio</td>\n",
              "      <td></td>\n",
              "    </tr>\n",
              "    <tr>\n",
              "      <th>freq</th>\n",
              "      <td>365</td>\n",
              "      <td>371</td>\n",
              "      <td>365</td>\n",
              "      <td>27</td>\n",
              "      <td>770</td>\n",
              "      <td>133</td>\n",
              "      <td>123</td>\n",
              "      <td>2</td>\n",
              "      <td>510</td>\n",
              "      <td>768</td>\n",
              "    </tr>\n",
              "  </tbody>\n",
              "</table>\n",
              "</div>"
            ],
            "text/plain": [
              "0      Número del Procedimiento Tipo de Procedimiento  \\\n",
              "count                       770                   770   \n",
              "unique                       33                     5   \n",
              "top       LP-919044992-I35-2017            Licitación   \n",
              "freq                        365                   371   \n",
              "\n",
              "0                                    Convocante Par- tida Cantidad Mínima  \\\n",
              "count                                       770       770             770   \n",
              "unique                                       21       365               1   \n",
              "top     SERVICIOS DE SALUD DE NUEVO LEON 0.P.D.         1                   \n",
              "freq                                        365        27             770   \n",
              "\n",
              "0      Cantidad Máxima       Unidad  \\\n",
              "count              770          770   \n",
              "unique             145          182   \n",
              "top                 2   FRASCO  C/1   \n",
              "freq               133          123   \n",
              "\n",
              "0                                             Descripción  \\\n",
              "count                                                 770   \n",
              "unique                                                768   \n",
              "top     080.830.5247.10.01 violeta cristal (violeta de...   \n",
              "freq                                                    2   \n",
              "\n",
              "0       Descripción de la Clave Observaciones  \n",
              "count                       770           770  \n",
              "unique                        9             2  \n",
              "top     Material de Laboratorio                \n",
              "freq                        510           768  "
            ]
          },
          "metadata": {},
          "output_type": "display_data"
        }
      ],
      "source": [
        "ejemplo = gc.open_by_key('1MJEn7aqCjBaMq2EQ2x1VhKgRZkgKeXpKQw0VFQ8P9HQ')\n",
        "ejemplo = ejemplo.get_worksheet(1)\n",
        "rows = ejemplo.get_all_values()\n",
        "ejemplo = pd.DataFrame.from_records(rows)\n",
        "ejemplo.columns = ejemplo.iloc[0]\n",
        "ejemplo.drop(0, inplace=True)\n",
        "ejemplo['Descripción'] = ejemplo['Descripción'].str.lower()\n",
        "display(ejemplo.describe())"
      ]
    },
    {
      "cell_type": "code",
      "execution_count": 16,
      "metadata": {},
      "outputs": [
        {
          "data": {
            "text/plain": [
              "array([[9.9969506e-01, 1.4746693e-07, 1.6233599e-06, ..., 1.6796745e-05,\n",
              "        2.3630530e-05, 4.1592764e-07],\n",
              "       [9.9986792e-01, 8.1916262e-08, 1.0703052e-06, ..., 2.5192519e-06,\n",
              "        6.2908748e-06, 1.4878000e-07],\n",
              "       [9.9967253e-01, 2.0727890e-07, 2.6657037e-06, ..., 2.8320401e-05,\n",
              "        2.6798980e-05, 5.0911331e-07],\n",
              "       ...,\n",
              "       [9.9989688e-01, 7.0644006e-08, 6.1960850e-07, ..., 4.8927755e-06,\n",
              "        4.7161811e-06, 1.1914614e-07],\n",
              "       [9.9981803e-01, 1.8959325e-07, 1.2679784e-06, ..., 1.5117265e-05,\n",
              "        4.0799237e-06, 3.5056394e-07],\n",
              "       [9.9989343e-01, 1.4030205e-07, 1.1366303e-06, ..., 8.4441390e-06,\n",
              "        2.7949463e-06, 2.4647318e-07]], dtype=float32)"
            ]
          },
          "execution_count": 16,
          "metadata": {},
          "output_type": "execute_result"
        }
      ],
      "source": [
        "textos = ejemplo['Descripción']\n",
        "docs = [nlp.tokenizer(texto) for texto in textos]\n",
        "textcat = nlp.get_pipe('textcat')\n",
        "scores = textcat.predict(docs)\n",
        "predicted_labels = scores.argmax(axis=1)\n",
        "predicted_labels = [textcat.labels[label] for label in predicted_labels]\n",
        "ejemplo['prediccion'] = predicted_labels\n",
        "\n",
        "# Los resultados de las predicciones fueron peores que con regresión lógistica de sklearn con un tiempo de entrenamiento de 75 min."
      ]
    },
    {
      "cell_type": "code",
      "execution_count": 71,
      "metadata": {
        "colab": {
          "base_uri": "https://localhost:8080/",
          "height": 4236
        },
        "id": "ZfaRICwjCuIe",
        "outputId": "49973a01-8a43-4c3f-84bf-14c189c43843"
      },
      "outputs": [
        {
          "data": {
            "text/html": [
              "<div>\n",
              "<style scoped>\n",
              "    .dataframe tbody tr th:only-of-type {\n",
              "        vertical-align: middle;\n",
              "    }\n",
              "\n",
              "    .dataframe tbody tr th {\n",
              "        vertical-align: top;\n",
              "    }\n",
              "\n",
              "    .dataframe thead th {\n",
              "        text-align: right;\n",
              "    }\n",
              "</style>\n",
              "<table border=\"1\" class=\"dataframe\">\n",
              "  <thead>\n",
              "    <tr style=\"text-align: right;\">\n",
              "      <th></th>\n",
              "      <th>Número del Procedimiento</th>\n",
              "      <th>Tipo de Procedimiento</th>\n",
              "      <th>Convocante</th>\n",
              "      <th>Par- tida</th>\n",
              "      <th>Cantidad Mínima</th>\n",
              "      <th>Cantidad Máxima</th>\n",
              "      <th>Unidad</th>\n",
              "      <th>Descripción</th>\n",
              "      <th>Descripción de la Clave</th>\n",
              "      <th>Observaciones</th>\n",
              "      <th>prediccion</th>\n",
              "      <th>prediccion2</th>\n",
              "    </tr>\n",
              "  </thead>\n",
              "  <tbody>\n",
              "    <tr>\n",
              "      <th>1</th>\n",
              "      <td>LP-919044992-I35-2017</td>\n",
              "      <td>Licitación</td>\n",
              "      <td>SERVICIOS DE SALUD DE NUEVO LEON 0.P.D.</td>\n",
              "      <td>1</td>\n",
              "      <td></td>\n",
              "      <td>24</td>\n",
              "      <td>EQUIPO C/96</td>\n",
              "      <td>800812141 (partida 1 sustancias quimicas ren.1...</td>\n",
              "      <td>Material de Laboratorio</td>\n",
              "      <td></td>\n",
              "      <td></td>\n",
              "      <td></td>\n",
              "    </tr>\n",
              "    <tr>\n",
              "      <th>2</th>\n",
              "      <td>LP-919044992-I35-2017</td>\n",
              "      <td>Licitación</td>\n",
              "      <td>SERVICIOS DE SALUD DE NUEVO LEON 0.P.D.</td>\n",
              "      <td>2</td>\n",
              "      <td></td>\n",
              "      <td>7</td>\n",
              "      <td>PLACA C/1</td>\n",
              "      <td>806101481 (partida 1 sustancias quimicas ren.2...</td>\n",
              "      <td>Material de Laboratorio</td>\n",
              "      <td></td>\n",
              "      <td></td>\n",
              "      <td></td>\n",
              "    </tr>\n",
              "    <tr>\n",
              "      <th>3</th>\n",
              "      <td>LP-919044992-I35-2017</td>\n",
              "      <td>Licitación</td>\n",
              "      <td>SERVICIOS DE SALUD DE NUEVO LEON 0.P.D.</td>\n",
              "      <td>3</td>\n",
              "      <td></td>\n",
              "      <td>7</td>\n",
              "      <td>EQUIPO C/96</td>\n",
              "      <td>800702508 (partida 1 sustancias quimicas ren.3...</td>\n",
              "      <td>Material de Laboratorio</td>\n",
              "      <td></td>\n",
              "      <td></td>\n",
              "      <td></td>\n",
              "    </tr>\n",
              "    <tr>\n",
              "      <th>4</th>\n",
              "      <td>LP-919044992-I35-2017</td>\n",
              "      <td>Licitación</td>\n",
              "      <td>SERVICIOS DE SALUD DE NUEVO LEON 0.P.D.</td>\n",
              "      <td>4</td>\n",
              "      <td></td>\n",
              "      <td>4</td>\n",
              "      <td>TUBOS C/10</td>\n",
              "      <td>5019994934 (partida 1 sustancias quimicas ren....</td>\n",
              "      <td>Material de Laboratorio</td>\n",
              "      <td></td>\n",
              "      <td></td>\n",
              "      <td></td>\n",
              "    </tr>\n",
              "    <tr>\n",
              "      <th>5</th>\n",
              "      <td>LP-919044992-I35-2017</td>\n",
              "      <td>Licitación</td>\n",
              "      <td>SERVICIOS DE SALUD DE NUEVO LEON 0.P.D.</td>\n",
              "      <td>5</td>\n",
              "      <td></td>\n",
              "      <td>2</td>\n",
              "      <td>FRASCO  C/1</td>\n",
              "      <td>800810590 (partida 1 sustancias quimicas ren.5...</td>\n",
              "      <td>Material de Laboratorio</td>\n",
              "      <td></td>\n",
              "      <td></td>\n",
              "      <td></td>\n",
              "    </tr>\n",
              "    <tr>\n",
              "      <th>...</th>\n",
              "      <td>...</td>\n",
              "      <td>...</td>\n",
              "      <td>...</td>\n",
              "      <td>...</td>\n",
              "      <td>...</td>\n",
              "      <td>...</td>\n",
              "      <td>...</td>\n",
              "      <td>...</td>\n",
              "      <td>...</td>\n",
              "      <td>...</td>\n",
              "      <td>...</td>\n",
              "      <td>...</td>\n",
              "    </tr>\n",
              "    <tr>\n",
              "      <th>766</th>\n",
              "      <td>AA-019GYR079-E160-2017</td>\n",
              "      <td>Adjudicación Directa</td>\n",
              "      <td>IMSS-Unidad Médica de Alta Especialidad, Hospi...</td>\n",
              "      <td>4</td>\n",
              "      <td></td>\n",
              "      <td>12</td>\n",
              "      <td>25 CJA RLL</td>\n",
              "      <td>060.203.0397.11.01 cintas para uso quirurgico ...</td>\n",
              "      <td>Material de Curación</td>\n",
              "      <td></td>\n",
              "      <td></td>\n",
              "      <td></td>\n",
              "    </tr>\n",
              "    <tr>\n",
              "      <th>767</th>\n",
              "      <td>AA-019GYR079-E161-2017</td>\n",
              "      <td>Adjudicación Directa</td>\n",
              "      <td>IMSS-Unidad Médica de Alta Especialidad, Hospi...</td>\n",
              "      <td>1</td>\n",
              "      <td></td>\n",
              "      <td>20</td>\n",
              "      <td>16 ENV LTO</td>\n",
              "      <td>060.066.0773.12.01 antisepticos. alcohol desna...</td>\n",
              "      <td>Material de Curación</td>\n",
              "      <td></td>\n",
              "      <td></td>\n",
              "      <td></td>\n",
              "    </tr>\n",
              "    <tr>\n",
              "      <th>768</th>\n",
              "      <td>AA-019GYR079-E161-2017</td>\n",
              "      <td>Adjudicación Directa</td>\n",
              "      <td>IMSS-Unidad Médica de Alta Especialidad, Hospi...</td>\n",
              "      <td>2</td>\n",
              "      <td></td>\n",
              "      <td>1</td>\n",
              "      <td>33491 PZA PZA</td>\n",
              "      <td>060.681.0059.11.01 pavales de forma anatomica,...</td>\n",
              "      <td>Material de Curación</td>\n",
              "      <td></td>\n",
              "      <td></td>\n",
              "      <td></td>\n",
              "    </tr>\n",
              "    <tr>\n",
              "      <th>769</th>\n",
              "      <td>AA-03890O001-E211-2017</td>\n",
              "      <td>Adjudicación Directa</td>\n",
              "      <td>CIBNOR-Subdirección de Recursos Materiales #03...</td>\n",
              "      <td>1</td>\n",
              "      <td></td>\n",
              "      <td>1</td>\n",
              "      <td></td>\n",
              "      <td>(mat. laboratorio ren.1) (sticky stuff) 1 shee...</td>\n",
              "      <td>Material de Laboratorio</td>\n",
              "      <td></td>\n",
              "      <td></td>\n",
              "      <td></td>\n",
              "    </tr>\n",
              "    <tr>\n",
              "      <th>770</th>\n",
              "      <td>AA-03891W001-E218-2017</td>\n",
              "      <td>Adjudicación Directa</td>\n",
              "      <td>IPICYT-Adquisiciones #03891W001</td>\n",
              "      <td>1</td>\n",
              "      <td></td>\n",
              "      <td>1</td>\n",
              "      <td>KIT ¿ Gama de produc</td>\n",
              "      <td>(reactivo ren.1) fg,kit rna-to-ct 1-step sybr,...</td>\n",
              "      <td>Material de Laboratorio</td>\n",
              "      <td></td>\n",
              "      <td></td>\n",
              "      <td></td>\n",
              "    </tr>\n",
              "  </tbody>\n",
              "</table>\n",
              "<p>770 rows × 12 columns</p>\n",
              "</div>"
            ],
            "text/plain": [
              "0   Número del Procedimiento Tipo de Procedimiento  \\\n",
              "1      LP-919044992-I35-2017            Licitación   \n",
              "2      LP-919044992-I35-2017            Licitación   \n",
              "3      LP-919044992-I35-2017            Licitación   \n",
              "4      LP-919044992-I35-2017            Licitación   \n",
              "5      LP-919044992-I35-2017            Licitación   \n",
              "..                       ...                   ...   \n",
              "766   AA-019GYR079-E160-2017  Adjudicación Directa   \n",
              "767   AA-019GYR079-E161-2017  Adjudicación Directa   \n",
              "768   AA-019GYR079-E161-2017  Adjudicación Directa   \n",
              "769   AA-03890O001-E211-2017  Adjudicación Directa   \n",
              "770   AA-03891W001-E218-2017  Adjudicación Directa   \n",
              "\n",
              "0                                           Convocante Par- tida  \\\n",
              "1              SERVICIOS DE SALUD DE NUEVO LEON 0.P.D.         1   \n",
              "2              SERVICIOS DE SALUD DE NUEVO LEON 0.P.D.         2   \n",
              "3              SERVICIOS DE SALUD DE NUEVO LEON 0.P.D.         3   \n",
              "4              SERVICIOS DE SALUD DE NUEVO LEON 0.P.D.         4   \n",
              "5              SERVICIOS DE SALUD DE NUEVO LEON 0.P.D.         5   \n",
              "..                                                 ...       ...   \n",
              "766  IMSS-Unidad Médica de Alta Especialidad, Hospi...         4   \n",
              "767  IMSS-Unidad Médica de Alta Especialidad, Hospi...         1   \n",
              "768  IMSS-Unidad Médica de Alta Especialidad, Hospi...         2   \n",
              "769  CIBNOR-Subdirección de Recursos Materiales #03...         1   \n",
              "770                    IPICYT-Adquisiciones #03891W001         1   \n",
              "\n",
              "0   Cantidad Mínima Cantidad Máxima                Unidad  \\\n",
              "1                               24            EQUIPO C/96   \n",
              "2                                7              PLACA C/1   \n",
              "3                                7            EQUIPO C/96   \n",
              "4                                4             TUBOS C/10   \n",
              "5                                2            FRASCO  C/1   \n",
              "..              ...             ...                   ...   \n",
              "766                             12             25 CJA RLL   \n",
              "767                             20             16 ENV LTO   \n",
              "768                              1          33491 PZA PZA   \n",
              "769                              1                          \n",
              "770                              1   KIT ¿ Gama de produc   \n",
              "\n",
              "0                                          Descripción  \\\n",
              "1    800812141 (partida 1 sustancias quimicas ren.1...   \n",
              "2    806101481 (partida 1 sustancias quimicas ren.2...   \n",
              "3    800702508 (partida 1 sustancias quimicas ren.3...   \n",
              "4    5019994934 (partida 1 sustancias quimicas ren....   \n",
              "5    800810590 (partida 1 sustancias quimicas ren.5...   \n",
              "..                                                 ...   \n",
              "766  060.203.0397.11.01 cintas para uso quirurgico ...   \n",
              "767  060.066.0773.12.01 antisepticos. alcohol desna...   \n",
              "768  060.681.0059.11.01 pavales de forma anatomica,...   \n",
              "769  (mat. laboratorio ren.1) (sticky stuff) 1 shee...   \n",
              "770  (reactivo ren.1) fg,kit rna-to-ct 1-step sybr,...   \n",
              "\n",
              "0    Descripción de la Clave Observaciones prediccion prediccion2  \n",
              "1    Material de Laboratorio                                       \n",
              "2    Material de Laboratorio                                       \n",
              "3    Material de Laboratorio                                       \n",
              "4    Material de Laboratorio                                       \n",
              "5    Material de Laboratorio                                       \n",
              "..                       ...           ...        ...         ...  \n",
              "766     Material de Curación                                       \n",
              "767     Material de Curación                                       \n",
              "768     Material de Curación                                       \n",
              "769  Material de Laboratorio                                       \n",
              "770  Material de Laboratorio                                       \n",
              "\n",
              "[770 rows x 12 columns]"
            ]
          },
          "execution_count": 71,
          "metadata": {},
          "output_type": "execute_result"
        }
      ],
      "source": [
        "ejemplo['prediccion2'] = pl.predict(ejemplo['Descripción'])\n",
        "ejemplo"
      ]
    },
    {
      "cell_type": "code",
      "execution_count": 75,
      "metadata": {},
      "outputs": [],
      "source": [
        "todas = pd.read_csv('partidas_solicitante2.csv')\n",
        "todas['categoria'] = pl.predict(todas['descripcion'])"
      ]
    },
    {
      "cell_type": "code",
      "execution_count": 76,
      "metadata": {},
      "outputs": [],
      "source": [
        "todas.to_csv('partidas_etiquetadas.csv', index=False)"
      ]
    },
    {
      "cell_type": "markdown",
      "metadata": {
        "id": "VOOtp__6uNSE"
      },
      "source": [
        "# Procesado de los datos de Cantidades"
      ]
    },
    {
      "cell_type": "code",
      "execution_count": null,
      "metadata": {
        "id": "QXMHsDRyO9xa"
      },
      "outputs": [],
      "source": [
        "textos = [text for text in data['Cantidad Máxima'] if len(text) > 5]\n",
        "\n",
        "rango_maxmin = r'(\\d+) a (\\d+)'\n",
        "cantidad_unidad = r'(\\d+) (\\w+)'\n",
        "minmax = r'min+max'\n",
        "dos_palabras = r'([A-Z]+) +([A-Z]+)'\n",
        "miles = r'(\\d{1,3}),(\\d{3})'\n",
        "\n",
        "display(textos)"
      ]
    },
    {
      "cell_type": "code",
      "execution_count": null,
      "metadata": {
        "id": "huYuId7ogKZ4"
      },
      "outputs": [],
      "source": [
        "display([re.match(cantidad_unidad, texto).group(2) for texto in textos if re.match(cantidad_unidad, texto)])"
      ]
    },
    {
      "cell_type": "code",
      "execution_count": null,
      "metadata": {
        "id": "l3RoZZf-JA5k"
      },
      "outputs": [],
      "source": [
        "# Funciones utilitarias\n",
        "\n",
        "def num_text_to_int(text):\n",
        "  nums = ['cero', 'uno', 'dos', 'tres', 'cuatro', 'cinco', 'seis', 'siete', 'ocho', 'nueve', 'diez']"
      ]
    },
    {
      "cell_type": "code",
      "execution_count": null,
      "metadata": {
        "id": "ylEdN9oZ9CO8"
      },
      "outputs": [],
      "source": [
        "data['Cantidad Máxima'] = (data['Cantidad Máxima'].str.replace('\\D', ''))\n",
        "data['Cantidad Mínima'] = (data['Cantidad Mínima'].str.replace('\\D', ''))\n",
        "data['Cantidad Máxima'] = data['Cantidad Máxima'].astype(int)\n",
        "data['Cantidad Mínima'] = data['Cantidad Mínima'].astype(int)"
      ]
    },
    {
      "cell_type": "code",
      "execution_count": null,
      "metadata": {
        "id": "2WgKBFZvGLqZ"
      },
      "outputs": [],
      "source": [
        "for index, num in enumerate(data['Cantidad Máxima']):\n",
        "  print('{} {}'.format(index, int(num)))"
      ]
    }
  ],
  "metadata": {
    "colab": {
      "authorship_tag": "ABX9TyMAWMl3H/WVPYuyhDx7WHjE",
      "collapsed_sections": [],
      "include_colab_link": true,
      "name": "clasificacion.ipynb",
      "provenance": []
    },
    "kernelspec": {
      "display_name": "Python 3",
      "name": "python3"
    },
    "language_info": {
      "codemirror_mode": {
        "name": "ipython",
        "version": 3
      },
      "file_extension": ".py",
      "mimetype": "text/x-python",
      "name": "python",
      "nbconvert_exporter": "python",
      "pygments_lexer": "ipython3",
      "version": "3.9.6"
    }
  },
  "nbformat": 4,
  "nbformat_minor": 0
}
