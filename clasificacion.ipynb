{
  "cells": [
    {
      "cell_type": "markdown",
      "metadata": {
        "colab_type": "text",
        "id": "view-in-github"
      },
      "source": [
        "<a href=\"https://colab.research.google.com/github/bjimenezTechnodomus/licitaciones/blob/main/clasificacion.ipynb\" target=\"_parent\"><img src=\"https://colab.research.google.com/assets/colab-badge.svg\" alt=\"Open In Colab\"/></a>"
      ]
    },
    {
      "cell_type": "code",
      "execution_count": 1,
      "metadata": {
        "id": "1Sj5s7VFtTjh"
      },
      "outputs": [],
      "source": [
        "import gspread\n",
        "\n",
        "import pandas as pd\n",
        "import re\n",
        "\n",
        "gc = gspread.service_account()"
      ]
    },
    {
      "cell_type": "code",
      "execution_count": 8,
      "metadata": {
        "colab": {
          "base_uri": "https://localhost:8080/",
          "height": 808
        },
        "id": "M-55WjBj79-B",
        "outputId": "d3b5a208-3d87-486e-a663-dd24771e2d70"
      },
      "outputs": [
        {
          "name": "stdout",
          "output_type": "stream",
          "text": [
            "<class 'pandas.core.frame.DataFrame'>\n",
            "Int64Index: 194004 entries, 1 to 194004\n",
            "Data columns (total 19 columns):\n",
            " #   Column                    Non-Null Count   Dtype \n",
            "---  ------                    --------------   ----- \n",
            " 0   Id_Partida                194004 non-null  object\n",
            " 1   Archivo_Origen            194004 non-null  object\n",
            " 2   Consecutivo               194004 non-null  object\n",
            " 3   Número del Procedimiento  194004 non-null  object\n",
            " 4   Tipo de Procedimiento     194004 non-null  object\n",
            " 5   Convocante                194004 non-null  object\n",
            " 6   Par- tida                 194004 non-null  object\n",
            " 7   Cantidad Mínima           194004 non-null  object\n",
            " 8   Cantidad Máxima           194004 non-null  object\n",
            " 9   Unidad                    194004 non-null  object\n",
            " 10  Descripción               194004 non-null  object\n",
            " 11  Descripción de la Clave   194004 non-null  object\n",
            " 12  Observaciones             194004 non-null  object\n",
            " 13  Grupo de productos        194004 non-null  object\n",
            " 14  Estaba equivocada         194004 non-null  object\n",
            " 15  Cuadro Básico             194004 non-null  object\n",
            " 16  Nos interesa              194004 non-null  object\n",
            " 17  Razones                   194004 non-null  object\n",
            " 18  Grupo Productos           194004 non-null  object\n",
            "dtypes: object(19)\n",
            "memory usage: 29.6+ MB\n"
          ]
        },
        {
          "data": {
            "text/plain": [
              "None"
            ]
          },
          "metadata": {},
          "output_type": "display_data"
        },
        {
          "data": {
            "text/html": [
              "<div>\n",
              "<style scoped>\n",
              "    .dataframe tbody tr th:only-of-type {\n",
              "        vertical-align: middle;\n",
              "    }\n",
              "\n",
              "    .dataframe tbody tr th {\n",
              "        vertical-align: top;\n",
              "    }\n",
              "\n",
              "    .dataframe thead th {\n",
              "        text-align: right;\n",
              "    }\n",
              "</style>\n",
              "<table border=\"1\" class=\"dataframe\">\n",
              "  <thead>\n",
              "    <tr style=\"text-align: right;\">\n",
              "      <th></th>\n",
              "      <th>Id_Partida</th>\n",
              "      <th>Archivo_Origen</th>\n",
              "      <th>Consecutivo</th>\n",
              "      <th>Número del Procedimiento</th>\n",
              "      <th>Tipo de Procedimiento</th>\n",
              "      <th>Convocante</th>\n",
              "      <th>Par- tida</th>\n",
              "      <th>Cantidad Mínima</th>\n",
              "      <th>Cantidad Máxima</th>\n",
              "      <th>Unidad</th>\n",
              "      <th>Descripción</th>\n",
              "      <th>Descripción de la Clave</th>\n",
              "      <th>Observaciones</th>\n",
              "      <th>Grupo de productos</th>\n",
              "      <th>Estaba equivocada</th>\n",
              "      <th>Cuadro Básico</th>\n",
              "      <th>Nos interesa</th>\n",
              "      <th>Razones</th>\n",
              "      <th>Grupo Productos</th>\n",
              "    </tr>\n",
              "  </thead>\n",
              "  <tbody>\n",
              "    <tr>\n",
              "      <th>count</th>\n",
              "      <td>194004</td>\n",
              "      <td>194004</td>\n",
              "      <td>194004</td>\n",
              "      <td>194004</td>\n",
              "      <td>194004</td>\n",
              "      <td>194004</td>\n",
              "      <td>194004</td>\n",
              "      <td>194004</td>\n",
              "      <td>194004</td>\n",
              "      <td>194004</td>\n",
              "      <td>194004</td>\n",
              "      <td>194004</td>\n",
              "      <td>194004</td>\n",
              "      <td>194004</td>\n",
              "      <td>194004</td>\n",
              "      <td>194004</td>\n",
              "      <td>194004</td>\n",
              "      <td>194004</td>\n",
              "      <td>194004</td>\n",
              "    </tr>\n",
              "    <tr>\n",
              "      <th>unique</th>\n",
              "      <td>192443</td>\n",
              "      <td>95</td>\n",
              "      <td>11000</td>\n",
              "      <td>5766</td>\n",
              "      <td>6</td>\n",
              "      <td>540</td>\n",
              "      <td>4779</td>\n",
              "      <td>2234</td>\n",
              "      <td>7201</td>\n",
              "      <td>4766</td>\n",
              "      <td>141702</td>\n",
              "      <td>15</td>\n",
              "      <td>9</td>\n",
              "      <td>14</td>\n",
              "      <td>4</td>\n",
              "      <td>17151</td>\n",
              "      <td>2</td>\n",
              "      <td>50</td>\n",
              "      <td>44</td>\n",
              "    </tr>\n",
              "    <tr>\n",
              "      <th>top</th>\n",
              "      <td></td>\n",
              "      <td>10OH0SuqpTiohriWJiBOBehIAMDsAqTLWviTXKrpIKIs</td>\n",
              "      <td>1</td>\n",
              "      <td>LA-051GYN047-E66-2021</td>\n",
              "      <td>Adjudicación Directa</td>\n",
              "      <td>IMSS-Coordinación de Abastecimiento y Equipami...</td>\n",
              "      <td>1</td>\n",
              "      <td></td>\n",
              "      <td>1</td>\n",
              "      <td></td>\n",
              "      <td>060.456.0631.00 GUANTES. DE NITRILO O POLIBUTA...</td>\n",
              "      <td>Material de Curación</td>\n",
              "      <td></td>\n",
              "      <td>No incluye</td>\n",
              "      <td>No</td>\n",
              "      <td></td>\n",
              "      <td></td>\n",
              "      <td></td>\n",
              "      <td></td>\n",
              "    </tr>\n",
              "    <tr>\n",
              "      <th>freq</th>\n",
              "      <td>7</td>\n",
              "      <td>5845</td>\n",
              "      <td>97</td>\n",
              "      <td>4120</td>\n",
              "      <td>65870</td>\n",
              "      <td>6703</td>\n",
              "      <td>4993</td>\n",
              "      <td>154530</td>\n",
              "      <td>29691</td>\n",
              "      <td>36940</td>\n",
              "      <td>68</td>\n",
              "      <td>119636</td>\n",
              "      <td>191439</td>\n",
              "      <td>190919</td>\n",
              "      <td>192929</td>\n",
              "      <td>94427</td>\n",
              "      <td>174689</td>\n",
              "      <td>165570</td>\n",
              "      <td>191328</td>\n",
              "    </tr>\n",
              "  </tbody>\n",
              "</table>\n",
              "</div>"
            ],
            "text/plain": [
              "0      Id_Partida                                Archivo_Origen Consecutivo  \\\n",
              "count      194004                                        194004      194004   \n",
              "unique     192443                                            95       11000   \n",
              "top                10OH0SuqpTiohriWJiBOBehIAMDsAqTLWviTXKrpIKIs           1   \n",
              "freq            7                                          5845          97   \n",
              "\n",
              "0      Número del Procedimiento Tipo de Procedimiento  \\\n",
              "count                    194004                194004   \n",
              "unique                     5766                     6   \n",
              "top       LA-051GYN047-E66-2021  Adjudicación Directa   \n",
              "freq                       4120                 65870   \n",
              "\n",
              "0                                              Convocante Par- tida  \\\n",
              "count                                              194004    194004   \n",
              "unique                                                540      4779   \n",
              "top     IMSS-Coordinación de Abastecimiento y Equipami...         1   \n",
              "freq                                                 6703      4993   \n",
              "\n",
              "0      Cantidad Mínima Cantidad Máxima  Unidad  \\\n",
              "count           194004          194004  194004   \n",
              "unique            2234            7201    4766   \n",
              "top                                  1           \n",
              "freq            154530           29691   36940   \n",
              "\n",
              "0                                             Descripción  \\\n",
              "count                                              194004   \n",
              "unique                                             141702   \n",
              "top     060.456.0631.00 GUANTES. DE NITRILO O POLIBUTA...   \n",
              "freq                                                   68   \n",
              "\n",
              "0      Descripción de la Clave Observaciones Grupo de productos  \\\n",
              "count                   194004        194004             194004   \n",
              "unique                      15             9                 14   \n",
              "top       Material de Curación                       No incluye   \n",
              "freq                    119636        191439             190919   \n",
              "\n",
              "0      Estaba equivocada Cuadro Básico Nos interesa Razones Grupo Productos  \n",
              "count             194004        194004       194004  194004          194004  \n",
              "unique                 4         17151            2      50              44  \n",
              "top                   No                                                     \n",
              "freq              192929         94427       174689  165570          191328  "
            ]
          },
          "metadata": {},
          "output_type": "display_data"
        }
      ],
      "source": [
        "worksheet = gc.open('Total partidas').sheet1\n",
        "\n",
        "rows = worksheet.get_all_values()\n",
        "\n",
        "data = pd.DataFrame.from_records(rows)\n",
        "data.columns = data.iloc[0]\n",
        "data.drop(0, inplace=True)\n",
        "display(data.info())\n",
        "display(data.describe())\n",
        "respaldo = data.copy(deep=True)"
      ]
    },
    {
      "cell_type": "code",
      "execution_count": 11,
      "metadata": {
        "id": "_nh3QYGam1Nr"
      },
      "outputs": [
        {
          "name": "stderr",
          "output_type": "stream",
          "text": [
            "/home/mauricio/.local/lib/python3.9/site-packages/pandas/core/frame.py:3599: SettingWithCopyWarning: \n",
            "A value is trying to be set on a copy of a slice from a DataFrame.\n",
            "Try using .loc[row_indexer,col_indexer] = value instead\n",
            "\n",
            "See the caveats in the documentation: https://pandas.pydata.org/pandas-docs/stable/user_guide/indexing.html#returning-a-view-versus-a-copy\n",
            "  self._set_item_frame_value(key, value)\n",
            "/home/mauricio/.local/lib/python3.9/site-packages/pandas/core/frame.py:3607: SettingWithCopyWarning: \n",
            "A value is trying to be set on a copy of a slice from a DataFrame.\n",
            "Try using .loc[row_indexer,col_indexer] = value instead\n",
            "\n",
            "See the caveats in the documentation: https://pandas.pydata.org/pandas-docs/stable/user_guide/indexing.html#returning-a-view-versus-a-copy\n",
            "  self._set_item(key, value)\n",
            "/home/mauricio/.local/lib/python3.9/site-packages/pandas/core/generic.py:8861: SettingWithCopyWarning: \n",
            "A value is trying to be set on a copy of a slice from a DataFrame\n",
            "\n",
            "See the caveats in the documentation: https://pandas.pydata.org/pandas-docs/stable/user_guide/indexing.html#returning-a-view-versus-a-copy\n",
            "  return self._update_inplace(result)\n"
          ]
        }
      ],
      "source": [
        "data = respaldo[['Id_Partida', 'Convocante', 'Descripción', 'Descripción de la Clave', 'Grupo de productos', 'Cuadro Básico', 'Nos interesa', 'Grupo Productos']]\n",
        "data.columns = ['id', 'convocante', 'descripcion', 'clave', 'grupo_1', 'cuadro_basico', 'interes', 'grupo_2']\n",
        "data['cuadro_2'] = data['descripcion'].str.extract(r'(\\d{3}[\\.\\s-]\\d{3}[\\.\\s-]\\d{4})').replace(r'[\\s-]', '.')\n",
        "CATEGORIAS = ['grupo_1', 'clave', 'interes', 'grupo_2']\n",
        "data['grupo_2'] = data['grupo_2'].str.lower()\n",
        "data['descripcion'] = data['descripcion'].str.lower()\n",
        "data['grupo_2'][data['grupo_2'] == 'mastografía'] = 'mastografias'\n",
        "data['grupo_2'][data['grupo_2'] == 'rayos x digital'] = 'dr'\n",
        "data['grupo_2'][data['grupo_2'] == 'mesa de rayos x'] = 'dr'\n",
        "data['grupo_2'][data['grupo_2'] == 'película dry'] = 'pelicula dry'\n",
        "data['grupo_2'][data['grupo_2'] == 'película y químicos dental'] = 'pelicula y quimicos dental'\n",
        "data['grupo_2'][data['grupo_2'] == 'retos ind. quimicos'] = 'indicadores quimicos'\n",
        "data[CATEGORIAS] = data[CATEGORIAS].apply(lambda x: x.astype('category'), axis=0)\n",
        "categorias_dumies = pd.get_dummies(data[CATEGORIAS])\n",
        "grupo_tech = pd.get_dummies(data['grupo_1'])"
      ]
    },
    {
      "cell_type": "code",
      "execution_count": 12,
      "metadata": {
        "colab": {
          "base_uri": "https://localhost:8080/"
        },
        "id": "p1daETJmPvCv",
        "outputId": "8e016042-aa69-4119-a11d-344ca35e0a39"
      },
      "outputs": [
        {
          "data": {
            "text/plain": [
              "                                    191328\n",
              "bolsa / rollo mixta papel             1004\n",
              "indicadores biologicos                 336\n",
              "indicadores quimicos                   243\n",
              "vapor                                  171\n",
              "plasma                                 166\n",
              "mastografias                           141\n",
              "lavado y cuidado de instrumental        85\n",
              "filme plano                             71\n",
              "bolsa / rollo tyvek                     56\n",
              "pelicula dry                            55\n",
              "envoltura material no tejido            53\n",
              "dr                                      49\n",
              "desinfectantes                          47\n",
              "selladoras                              43\n",
              "contenedores                            24\n",
              "incubadoras                             23\n",
              "licenciamiento                          16\n",
              "lavadoras ultrasonicas                  13\n",
              "bolsa / rollo material no tejido        11\n",
              "pelicula y quimicos dental              10\n",
              "lavadoras ultrasónicas                  10\n",
              "cr                                       8\n",
              "monitores grado medico                   7\n",
              "lavadoras termodesinfectoras             7\n",
              "arcos en c                               6\n",
              "retos ind. quimico                       4\n",
              "quimicos para revelado                   3\n",
              "servicios profesionales                  3\n",
              "tomografia                               3\n",
              "dental digital                           2\n",
              "resonancia                               2\n",
              "pacs/ris                                 1\n",
              "automaticas                              1\n",
              "impresoras                               1\n",
              "reveladoras y casetas análogas           1\n",
              "Name: grupo_2, dtype: int64"
            ]
          },
          "execution_count": 12,
          "metadata": {},
          "output_type": "execute_result"
        }
      ],
      "source": [
        "data['grupo_2'].value_counts()"
      ]
    },
    {
      "cell_type": "code",
      "execution_count": 27,
      "metadata": {
        "id": "Et93mVfHFqUX"
      },
      "outputs": [],
      "source": [
        "y = data['grupo_2']\n",
        "X = data.drop('grupo_2', axis=1)\n",
        "from sklearn.model_selection import StratifiedShuffleSplit\n",
        "split = StratifiedShuffleSplit(n_splits=1, test_size=0.2, random_state=42)\n",
        "for train_index, test_index in split.split(X, y):\n",
        "  X_train = X.iloc[train_index]\n",
        "  X_test = X.iloc[test_index]\n",
        "  y_train = y.iloc[train_index]\n",
        "  y_test = y.iloc[test_index]\n"
      ]
    },
    {
      "cell_type": "code",
      "execution_count": 37,
      "metadata": {
        "colab": {
          "base_uri": "https://localhost:8080/",
          "height": 34
        },
        "id": "nj0LUZqbz1MG",
        "outputId": "dac19f2d-18ba-419c-b1bb-3428b0f4d812"
      },
      "outputs": [
        {
          "data": {
            "text/plain": [
              "Pipeline(steps=[('vec', CountVectorizer(token_pattern='[A-Za-z0-9]+(?=\\\\s+)')),\n",
              "                ('clf',\n",
              "                 OneVsRestClassifier(estimator=LogisticRegression(max_iter=200)))])"
            ]
          },
          "execution_count": 37,
          "metadata": {},
          "output_type": "execute_result"
        }
      ],
      "source": [
        "from sklearn.pipeline import Pipeline\n",
        "from sklearn.feature_extraction.text import CountVectorizer\n",
        "from sklearn.linear_model import LogisticRegression\n",
        "from sklearn.multiclass import OneVsRestClassifier\n",
        "\n",
        "tokens = '[A-Za-z0-9]+(?=\\\\s+)'\n",
        "\n",
        "X_train['descripcion'].fillna('', inplace=True)\n",
        "\n",
        "vectorizer = CountVectorizer(token_pattern= tokens)\n",
        "vectorizer.fit_transform(X_train['descripcion'])\n",
        "\n",
        "pl = Pipeline([\n",
        "    ('vec', CountVectorizer(token_pattern = tokens)),\n",
        "    ('clf', OneVsRestClassifier(LogisticRegression(max_iter=200)))\n",
        "])\n",
        "\n",
        "pl.fit(X_train['descripcion'], y_train)"
      ]
    },
    {
      "cell_type": "code",
      "execution_count": 70,
      "metadata": {},
      "outputs": [
        {
          "name": "stderr",
          "output_type": "stream",
          "text": [
            "/home/mauricio/.local/lib/python3.9/site-packages/pandas/core/frame.py:4901: SettingWithCopyWarning: \n",
            "A value is trying to be set on a copy of a slice from a DataFrame\n",
            "\n",
            "See the caveats in the documentation: https://pandas.pydata.org/pandas-docs/stable/user_guide/indexing.html#returning-a-view-versus-a-copy\n",
            "  return super().drop(\n"
          ]
        },
        {
          "data": {
            "text/plain": [
              "Pipeline(steps=[('vec', CountVectorizer(token_pattern='[A-Za-z0-9]+(?=\\\\s+)')),\n",
              "                ('clf',\n",
              "                 OneVsRestClassifier(estimator=LogisticRegression(max_iter=200)))])"
            ]
          },
          "execution_count": 70,
          "metadata": {},
          "output_type": "execute_result"
        }
      ],
      "source": [
        "import numpy as np\n",
        "\n",
        "data2 = data.sort_values('grupo_2')\n",
        "no_producto = data2.iloc[0:116984]\n",
        "productos = data2.iloc[116985:]\n",
        "drops = np.random.choice(no_producto.index, 100000, replace=False)\n",
        "no_producto.drop(drops, inplace=True)\n",
        "data2 = pd.concat([no_producto, productos])\n",
        "X2 = data2.drop('grupo_2', axis=1)\n",
        "y2 = data2['grupo_2']\n",
        "X2['descripcion'].fillna('', inplace=True)\n",
        "vec = CountVectorizer(token_pattern=tokens)\n",
        "vec.fit_transform(X_train['descripcion'])\n",
        "pl.fit(X2['descripcion'], y2)\n"
      ]
    },
    {
      "cell_type": "code",
      "execution_count": 74,
      "metadata": {},
      "outputs": [],
      "source": [
        "data2[['descripcion', 'cuadro_2', 'grupo_2']].to_csv('datos_entrenamiento.csv', index=False)\n"
      ]
    },
    {
      "cell_type": "markdown",
      "metadata": {
        "id": "2gJCJZdqlNls"
      },
      "source": [
        "# Clasificación con Spacy\n",
        "\n",
        "Una prueba para mejorar el modelo usando los modelos preentrenados de spacy"
      ]
    },
    {
      "cell_type": "code",
      "execution_count": null,
      "metadata": {
        "id": "UStTKCsQNgYn"
      },
      "outputs": [],
      "source": [
        "# Ejemplo usando Spacy para la clasificaión de las partidas\n",
        "!pip install --upgrade spacy"
      ]
    },
    {
      "cell_type": "code",
      "execution_count": 8,
      "metadata": {
        "id": "t1InON0rhj-x"
      },
      "outputs": [],
      "source": [
        "import spacy\n",
        "nlp = spacy.blank('es')\n",
        "textcat = nlp.add_pipe('textcat')\n",
        "labels = data['grupo_2'].unique()\n",
        "for label in labels:\n",
        "  textcat.add_label(label)\n",
        "\n",
        "train_text = data['descripcion'].values\n",
        "train_labels = [{'cats': {label: case == label for label in labels}} for case in data['grupo_2']]\n",
        "train_data = list(zip(train_text, train_labels))\n",
        "train_data[:3]"
      ]
    },
    {
      "cell_type": "code",
      "execution_count": 10,
      "metadata": {
        "id": "-BHke_Pmw3HE"
      },
      "outputs": [],
      "source": [
        "from spacy.util import minibatch\n",
        "from spacy.training.example import Example \n",
        "\n",
        "spacy.util.fix_random_seed(1)\n",
        "optimizer = nlp.begin_training()\n",
        "\n",
        "batches = minibatch(train_data, size=10)\n",
        "for batch in batches:\n",
        "  for text, labels in batch:\n",
        "    doc = nlp.make_doc(text)\n",
        "    example = Example.from_dict(doc, labels)\n",
        "    nlp.update([example], sgd=optimizer)"
      ]
    },
    {
      "cell_type": "markdown",
      "metadata": {
        "id": "mGhQXoTvNK0t"
      },
      "source": [
        "## Ejemplo de aplicación del modelado\n",
        "\n",
        "Este es un ejemplo del uso del algoritmo en un archivo anterior de partidas."
      ]
    },
    {
      "cell_type": "code",
      "execution_count": 13,
      "metadata": {
        "colab": {
          "base_uri": "https://localhost:8080/",
          "height": 235
        },
        "id": "P40Xk41TA6uX",
        "outputId": "f3ef71f0-ffd6-41ca-fb03-be00cfb4fd84"
      },
      "outputs": [
        {
          "data": {
            "text/html": [
              "<div>\n",
              "<style scoped>\n",
              "    .dataframe tbody tr th:only-of-type {\n",
              "        vertical-align: middle;\n",
              "    }\n",
              "\n",
              "    .dataframe tbody tr th {\n",
              "        vertical-align: top;\n",
              "    }\n",
              "\n",
              "    .dataframe thead th {\n",
              "        text-align: right;\n",
              "    }\n",
              "</style>\n",
              "<table border=\"1\" class=\"dataframe\">\n",
              "  <thead>\n",
              "    <tr style=\"text-align: right;\">\n",
              "      <th></th>\n",
              "      <th>Número del Procedimiento</th>\n",
              "      <th>Tipo de Procedimiento</th>\n",
              "      <th>Convocante</th>\n",
              "      <th>Par- tida</th>\n",
              "      <th>Cantidad Mínima</th>\n",
              "      <th>Cantidad Máxima</th>\n",
              "      <th>Unidad</th>\n",
              "      <th>Descripción</th>\n",
              "      <th>Descripción de la Clave</th>\n",
              "      <th>Observaciones</th>\n",
              "    </tr>\n",
              "  </thead>\n",
              "  <tbody>\n",
              "    <tr>\n",
              "      <th>count</th>\n",
              "      <td>770</td>\n",
              "      <td>770</td>\n",
              "      <td>770</td>\n",
              "      <td>770</td>\n",
              "      <td>770</td>\n",
              "      <td>770</td>\n",
              "      <td>770</td>\n",
              "      <td>770</td>\n",
              "      <td>770</td>\n",
              "      <td>770</td>\n",
              "    </tr>\n",
              "    <tr>\n",
              "      <th>unique</th>\n",
              "      <td>33</td>\n",
              "      <td>5</td>\n",
              "      <td>21</td>\n",
              "      <td>365</td>\n",
              "      <td>1</td>\n",
              "      <td>145</td>\n",
              "      <td>182</td>\n",
              "      <td>768</td>\n",
              "      <td>9</td>\n",
              "      <td>2</td>\n",
              "    </tr>\n",
              "    <tr>\n",
              "      <th>top</th>\n",
              "      <td>LP-919044992-I35-2017</td>\n",
              "      <td>Licitación</td>\n",
              "      <td>SERVICIOS DE SALUD DE NUEVO LEON 0.P.D.</td>\n",
              "      <td>1</td>\n",
              "      <td></td>\n",
              "      <td>2</td>\n",
              "      <td>FRASCO  C/1</td>\n",
              "      <td>080.830.5247.10.01 violeta cristal (violeta de...</td>\n",
              "      <td>Material de Laboratorio</td>\n",
              "      <td></td>\n",
              "    </tr>\n",
              "    <tr>\n",
              "      <th>freq</th>\n",
              "      <td>365</td>\n",
              "      <td>371</td>\n",
              "      <td>365</td>\n",
              "      <td>27</td>\n",
              "      <td>770</td>\n",
              "      <td>133</td>\n",
              "      <td>123</td>\n",
              "      <td>2</td>\n",
              "      <td>510</td>\n",
              "      <td>768</td>\n",
              "    </tr>\n",
              "  </tbody>\n",
              "</table>\n",
              "</div>"
            ],
            "text/plain": [
              "0      Número del Procedimiento Tipo de Procedimiento  \\\n",
              "count                       770                   770   \n",
              "unique                       33                     5   \n",
              "top       LP-919044992-I35-2017            Licitación   \n",
              "freq                        365                   371   \n",
              "\n",
              "0                                    Convocante Par- tida Cantidad Mínima  \\\n",
              "count                                       770       770             770   \n",
              "unique                                       21       365               1   \n",
              "top     SERVICIOS DE SALUD DE NUEVO LEON 0.P.D.         1                   \n",
              "freq                                        365        27             770   \n",
              "\n",
              "0      Cantidad Máxima       Unidad  \\\n",
              "count              770          770   \n",
              "unique             145          182   \n",
              "top                 2   FRASCO  C/1   \n",
              "freq               133          123   \n",
              "\n",
              "0                                             Descripción  \\\n",
              "count                                                 770   \n",
              "unique                                                768   \n",
              "top     080.830.5247.10.01 violeta cristal (violeta de...   \n",
              "freq                                                    2   \n",
              "\n",
              "0       Descripción de la Clave Observaciones  \n",
              "count                       770           770  \n",
              "unique                        9             2  \n",
              "top     Material de Laboratorio                \n",
              "freq                        510           768  "
            ]
          },
          "metadata": {},
          "output_type": "display_data"
        }
      ],
      "source": [
        "ejemplo = gc.open_by_key('1MJEn7aqCjBaMq2EQ2x1VhKgRZkgKeXpKQw0VFQ8P9HQ')\n",
        "ejemplo = ejemplo.get_worksheet(1)\n",
        "rows = ejemplo.get_all_values()\n",
        "ejemplo = pd.DataFrame.from_records(rows)\n",
        "ejemplo.columns = ejemplo.iloc[0]\n",
        "ejemplo.drop(0, inplace=True)\n",
        "ejemplo['Descripción'] = ejemplo['Descripción'].str.lower()\n",
        "display(ejemplo.describe())"
      ]
    },
    {
      "cell_type": "code",
      "execution_count": 16,
      "metadata": {},
      "outputs": [
        {
          "data": {
            "text/plain": [
              "array([[9.9969506e-01, 1.4746693e-07, 1.6233599e-06, ..., 1.6796745e-05,\n",
              "        2.3630530e-05, 4.1592764e-07],\n",
              "       [9.9986792e-01, 8.1916262e-08, 1.0703052e-06, ..., 2.5192519e-06,\n",
              "        6.2908748e-06, 1.4878000e-07],\n",
              "       [9.9967253e-01, 2.0727890e-07, 2.6657037e-06, ..., 2.8320401e-05,\n",
              "        2.6798980e-05, 5.0911331e-07],\n",
              "       ...,\n",
              "       [9.9989688e-01, 7.0644006e-08, 6.1960850e-07, ..., 4.8927755e-06,\n",
              "        4.7161811e-06, 1.1914614e-07],\n",
              "       [9.9981803e-01, 1.8959325e-07, 1.2679784e-06, ..., 1.5117265e-05,\n",
              "        4.0799237e-06, 3.5056394e-07],\n",
              "       [9.9989343e-01, 1.4030205e-07, 1.1366303e-06, ..., 8.4441390e-06,\n",
              "        2.7949463e-06, 2.4647318e-07]], dtype=float32)"
            ]
          },
          "execution_count": 16,
          "metadata": {},
          "output_type": "execute_result"
        }
      ],
      "source": [
        "textos = ejemplo['Descripción']\n",
        "docs = [nlp.tokenizer(texto) for texto in textos]\n",
        "textcat = nlp.get_pipe('textcat')\n",
        "scores = textcat.predict(docs)\n",
        "predicted_labels = scores.argmax(axis=1)\n",
        "predicted_labels = [textcat.labels[label] for label in predicted_labels]\n",
        "ejemplo['prediccion'] = predicted_labels\n",
        "\n",
        "# Los resultados de las predicciones fueron peores que con regresión lógistica de sklearn con un tiempo de entrenamiento de 75 min."
      ]
    },
    {
      "cell_type": "code",
      "execution_count": 71,
      "metadata": {
        "colab": {
          "base_uri": "https://localhost:8080/",
          "height": 4236
        },
        "id": "ZfaRICwjCuIe",
        "outputId": "49973a01-8a43-4c3f-84bf-14c189c43843"
      },
      "outputs": [
        {
          "data": {
            "text/html": [
              "<div>\n",
              "<style scoped>\n",
              "    .dataframe tbody tr th:only-of-type {\n",
              "        vertical-align: middle;\n",
              "    }\n",
              "\n",
              "    .dataframe tbody tr th {\n",
              "        vertical-align: top;\n",
              "    }\n",
              "\n",
              "    .dataframe thead th {\n",
              "        text-align: right;\n",
              "    }\n",
              "</style>\n",
              "<table border=\"1\" class=\"dataframe\">\n",
              "  <thead>\n",
              "    <tr style=\"text-align: right;\">\n",
              "      <th></th>\n",
              "      <th>Número del Procedimiento</th>\n",
              "      <th>Tipo de Procedimiento</th>\n",
              "      <th>Convocante</th>\n",
              "      <th>Par- tida</th>\n",
              "      <th>Cantidad Mínima</th>\n",
              "      <th>Cantidad Máxima</th>\n",
              "      <th>Unidad</th>\n",
              "      <th>Descripción</th>\n",
              "      <th>Descripción de la Clave</th>\n",
              "      <th>Observaciones</th>\n",
              "      <th>prediccion</th>\n",
              "      <th>prediccion2</th>\n",
              "    </tr>\n",
              "  </thead>\n",
              "  <tbody>\n",
              "    <tr>\n",
              "      <th>1</th>\n",
              "      <td>LP-919044992-I35-2017</td>\n",
              "      <td>Licitación</td>\n",
              "      <td>SERVICIOS DE SALUD DE NUEVO LEON 0.P.D.</td>\n",
              "      <td>1</td>\n",
              "      <td></td>\n",
              "      <td>24</td>\n",
              "      <td>EQUIPO C/96</td>\n",
              "      <td>800812141 (partida 1 sustancias quimicas ren.1...</td>\n",
              "      <td>Material de Laboratorio</td>\n",
              "      <td></td>\n",
              "      <td></td>\n",
              "      <td></td>\n",
              "    </tr>\n",
              "    <tr>\n",
              "      <th>2</th>\n",
              "      <td>LP-919044992-I35-2017</td>\n",
              "      <td>Licitación</td>\n",
              "      <td>SERVICIOS DE SALUD DE NUEVO LEON 0.P.D.</td>\n",
              "      <td>2</td>\n",
              "      <td></td>\n",
              "      <td>7</td>\n",
              "      <td>PLACA C/1</td>\n",
              "      <td>806101481 (partida 1 sustancias quimicas ren.2...</td>\n",
              "      <td>Material de Laboratorio</td>\n",
              "      <td></td>\n",
              "      <td></td>\n",
              "      <td></td>\n",
              "    </tr>\n",
              "    <tr>\n",
              "      <th>3</th>\n",
              "      <td>LP-919044992-I35-2017</td>\n",
              "      <td>Licitación</td>\n",
              "      <td>SERVICIOS DE SALUD DE NUEVO LEON 0.P.D.</td>\n",
              "      <td>3</td>\n",
              "      <td></td>\n",
              "      <td>7</td>\n",
              "      <td>EQUIPO C/96</td>\n",
              "      <td>800702508 (partida 1 sustancias quimicas ren.3...</td>\n",
              "      <td>Material de Laboratorio</td>\n",
              "      <td></td>\n",
              "      <td></td>\n",
              "      <td></td>\n",
              "    </tr>\n",
              "    <tr>\n",
              "      <th>4</th>\n",
              "      <td>LP-919044992-I35-2017</td>\n",
              "      <td>Licitación</td>\n",
              "      <td>SERVICIOS DE SALUD DE NUEVO LEON 0.P.D.</td>\n",
              "      <td>4</td>\n",
              "      <td></td>\n",
              "      <td>4</td>\n",
              "      <td>TUBOS C/10</td>\n",
              "      <td>5019994934 (partida 1 sustancias quimicas ren....</td>\n",
              "      <td>Material de Laboratorio</td>\n",
              "      <td></td>\n",
              "      <td></td>\n",
              "      <td></td>\n",
              "    </tr>\n",
              "    <tr>\n",
              "      <th>5</th>\n",
              "      <td>LP-919044992-I35-2017</td>\n",
              "      <td>Licitación</td>\n",
              "      <td>SERVICIOS DE SALUD DE NUEVO LEON 0.P.D.</td>\n",
              "      <td>5</td>\n",
              "      <td></td>\n",
              "      <td>2</td>\n",
              "      <td>FRASCO  C/1</td>\n",
              "      <td>800810590 (partida 1 sustancias quimicas ren.5...</td>\n",
              "      <td>Material de Laboratorio</td>\n",
              "      <td></td>\n",
              "      <td></td>\n",
              "      <td></td>\n",
              "    </tr>\n",
              "    <tr>\n",
              "      <th>...</th>\n",
              "      <td>...</td>\n",
              "      <td>...</td>\n",
              "      <td>...</td>\n",
              "      <td>...</td>\n",
              "      <td>...</td>\n",
              "      <td>...</td>\n",
              "      <td>...</td>\n",
              "      <td>...</td>\n",
              "      <td>...</td>\n",
              "      <td>...</td>\n",
              "      <td>...</td>\n",
              "      <td>...</td>\n",
              "    </tr>\n",
              "    <tr>\n",
              "      <th>766</th>\n",
              "      <td>AA-019GYR079-E160-2017</td>\n",
              "      <td>Adjudicación Directa</td>\n",
              "      <td>IMSS-Unidad Médica de Alta Especialidad, Hospi...</td>\n",
              "      <td>4</td>\n",
              "      <td></td>\n",
              "      <td>12</td>\n",
              "      <td>25 CJA RLL</td>\n",
              "      <td>060.203.0397.11.01 cintas para uso quirurgico ...</td>\n",
              "      <td>Material de Curación</td>\n",
              "      <td></td>\n",
              "      <td></td>\n",
              "      <td></td>\n",
              "    </tr>\n",
              "    <tr>\n",
              "      <th>767</th>\n",
              "      <td>AA-019GYR079-E161-2017</td>\n",
              "      <td>Adjudicación Directa</td>\n",
              "      <td>IMSS-Unidad Médica de Alta Especialidad, Hospi...</td>\n",
              "      <td>1</td>\n",
              "      <td></td>\n",
              "      <td>20</td>\n",
              "      <td>16 ENV LTO</td>\n",
              "      <td>060.066.0773.12.01 antisepticos. alcohol desna...</td>\n",
              "      <td>Material de Curación</td>\n",
              "      <td></td>\n",
              "      <td></td>\n",
              "      <td></td>\n",
              "    </tr>\n",
              "    <tr>\n",
              "      <th>768</th>\n",
              "      <td>AA-019GYR079-E161-2017</td>\n",
              "      <td>Adjudicación Directa</td>\n",
              "      <td>IMSS-Unidad Médica de Alta Especialidad, Hospi...</td>\n",
              "      <td>2</td>\n",
              "      <td></td>\n",
              "      <td>1</td>\n",
              "      <td>33491 PZA PZA</td>\n",
              "      <td>060.681.0059.11.01 pavales de forma anatomica,...</td>\n",
              "      <td>Material de Curación</td>\n",
              "      <td></td>\n",
              "      <td></td>\n",
              "      <td></td>\n",
              "    </tr>\n",
              "    <tr>\n",
              "      <th>769</th>\n",
              "      <td>AA-03890O001-E211-2017</td>\n",
              "      <td>Adjudicación Directa</td>\n",
              "      <td>CIBNOR-Subdirección de Recursos Materiales #03...</td>\n",
              "      <td>1</td>\n",
              "      <td></td>\n",
              "      <td>1</td>\n",
              "      <td></td>\n",
              "      <td>(mat. laboratorio ren.1) (sticky stuff) 1 shee...</td>\n",
              "      <td>Material de Laboratorio</td>\n",
              "      <td></td>\n",
              "      <td></td>\n",
              "      <td></td>\n",
              "    </tr>\n",
              "    <tr>\n",
              "      <th>770</th>\n",
              "      <td>AA-03891W001-E218-2017</td>\n",
              "      <td>Adjudicación Directa</td>\n",
              "      <td>IPICYT-Adquisiciones #03891W001</td>\n",
              "      <td>1</td>\n",
              "      <td></td>\n",
              "      <td>1</td>\n",
              "      <td>KIT ¿ Gama de produc</td>\n",
              "      <td>(reactivo ren.1) fg,kit rna-to-ct 1-step sybr,...</td>\n",
              "      <td>Material de Laboratorio</td>\n",
              "      <td></td>\n",
              "      <td></td>\n",
              "      <td></td>\n",
              "    </tr>\n",
              "  </tbody>\n",
              "</table>\n",
              "<p>770 rows × 12 columns</p>\n",
              "</div>"
            ],
            "text/plain": [
              "0   Número del Procedimiento Tipo de Procedimiento  \\\n",
              "1      LP-919044992-I35-2017            Licitación   \n",
              "2      LP-919044992-I35-2017            Licitación   \n",
              "3      LP-919044992-I35-2017            Licitación   \n",
              "4      LP-919044992-I35-2017            Licitación   \n",
              "5      LP-919044992-I35-2017            Licitación   \n",
              "..                       ...                   ...   \n",
              "766   AA-019GYR079-E160-2017  Adjudicación Directa   \n",
              "767   AA-019GYR079-E161-2017  Adjudicación Directa   \n",
              "768   AA-019GYR079-E161-2017  Adjudicación Directa   \n",
              "769   AA-03890O001-E211-2017  Adjudicación Directa   \n",
              "770   AA-03891W001-E218-2017  Adjudicación Directa   \n",
              "\n",
              "0                                           Convocante Par- tida  \\\n",
              "1              SERVICIOS DE SALUD DE NUEVO LEON 0.P.D.         1   \n",
              "2              SERVICIOS DE SALUD DE NUEVO LEON 0.P.D.         2   \n",
              "3              SERVICIOS DE SALUD DE NUEVO LEON 0.P.D.         3   \n",
              "4              SERVICIOS DE SALUD DE NUEVO LEON 0.P.D.         4   \n",
              "5              SERVICIOS DE SALUD DE NUEVO LEON 0.P.D.         5   \n",
              "..                                                 ...       ...   \n",
              "766  IMSS-Unidad Médica de Alta Especialidad, Hospi...         4   \n",
              "767  IMSS-Unidad Médica de Alta Especialidad, Hospi...         1   \n",
              "768  IMSS-Unidad Médica de Alta Especialidad, Hospi...         2   \n",
              "769  CIBNOR-Subdirección de Recursos Materiales #03...         1   \n",
              "770                    IPICYT-Adquisiciones #03891W001         1   \n",
              "\n",
              "0   Cantidad Mínima Cantidad Máxima                Unidad  \\\n",
              "1                               24            EQUIPO C/96   \n",
              "2                                7              PLACA C/1   \n",
              "3                                7            EQUIPO C/96   \n",
              "4                                4             TUBOS C/10   \n",
              "5                                2            FRASCO  C/1   \n",
              "..              ...             ...                   ...   \n",
              "766                             12             25 CJA RLL   \n",
              "767                             20             16 ENV LTO   \n",
              "768                              1          33491 PZA PZA   \n",
              "769                              1                          \n",
              "770                              1   KIT ¿ Gama de produc   \n",
              "\n",
              "0                                          Descripción  \\\n",
              "1    800812141 (partida 1 sustancias quimicas ren.1...   \n",
              "2    806101481 (partida 1 sustancias quimicas ren.2...   \n",
              "3    800702508 (partida 1 sustancias quimicas ren.3...   \n",
              "4    5019994934 (partida 1 sustancias quimicas ren....   \n",
              "5    800810590 (partida 1 sustancias quimicas ren.5...   \n",
              "..                                                 ...   \n",
              "766  060.203.0397.11.01 cintas para uso quirurgico ...   \n",
              "767  060.066.0773.12.01 antisepticos. alcohol desna...   \n",
              "768  060.681.0059.11.01 pavales de forma anatomica,...   \n",
              "769  (mat. laboratorio ren.1) (sticky stuff) 1 shee...   \n",
              "770  (reactivo ren.1) fg,kit rna-to-ct 1-step sybr,...   \n",
              "\n",
              "0    Descripción de la Clave Observaciones prediccion prediccion2  \n",
              "1    Material de Laboratorio                                       \n",
              "2    Material de Laboratorio                                       \n",
              "3    Material de Laboratorio                                       \n",
              "4    Material de Laboratorio                                       \n",
              "5    Material de Laboratorio                                       \n",
              "..                       ...           ...        ...         ...  \n",
              "766     Material de Curación                                       \n",
              "767     Material de Curación                                       \n",
              "768     Material de Curación                                       \n",
              "769  Material de Laboratorio                                       \n",
              "770  Material de Laboratorio                                       \n",
              "\n",
              "[770 rows x 12 columns]"
            ]
          },
          "execution_count": 71,
          "metadata": {},
          "output_type": "execute_result"
        }
      ],
      "source": [
        "ejemplo['prediccion2'] = pl.predict(ejemplo['Descripción'])\n",
        "ejemplo"
      ]
    },
    {
      "cell_type": "code",
      "execution_count": 75,
      "metadata": {},
      "outputs": [],
      "source": [
        "todas = pd.read_csv('partidas_solicitante2.csv')\n",
        "todas['categoria'] = pl.predict(todas['descripcion'])"
      ]
    },
    {
      "cell_type": "code",
      "execution_count": 76,
      "metadata": {},
      "outputs": [],
      "source": [
        "todas.to_csv('partidas_etiquetadas.csv', index=False)"
      ]
    },
    {
      "cell_type": "markdown",
      "metadata": {
        "id": "VOOtp__6uNSE"
      },
      "source": [
        "# Procesado de los datos de Cantidades"
      ]
    },
    {
      "cell_type": "code",
      "execution_count": null,
      "metadata": {
        "id": "QXMHsDRyO9xa"
      },
      "outputs": [],
      "source": [
        "textos = [text for text in data['Cantidad Máxima'] if len(text) > 5]\n",
        "\n",
        "rango_maxmin = r'(\\d+) a (\\d+)'\n",
        "cantidad_unidad = r'(\\d+) (\\w+)'\n",
        "minmax = r'min+max'\n",
        "dos_palabras = r'([A-Z]+) +([A-Z]+)'\n",
        "miles = r'(\\d{1,3}),(\\d{3})'\n",
        "\n",
        "display(textos)"
      ]
    },
    {
      "cell_type": "code",
      "execution_count": null,
      "metadata": {
        "id": "huYuId7ogKZ4"
      },
      "outputs": [],
      "source": [
        "display([re.match(cantidad_unidad, texto).group(2) for texto in textos if re.match(cantidad_unidad, texto)])"
      ]
    },
    {
      "cell_type": "code",
      "execution_count": null,
      "metadata": {
        "id": "l3RoZZf-JA5k"
      },
      "outputs": [],
      "source": [
        "# Funciones utilitarias\n",
        "\n",
        "def num_text_to_int(text):\n",
        "  nums = ['cero', 'uno', 'dos', 'tres', 'cuatro', 'cinco', 'seis', 'siete', 'ocho', 'nueve', 'diez']"
      ]
    },
    {
      "cell_type": "code",
      "execution_count": null,
      "metadata": {
        "id": "ylEdN9oZ9CO8"
      },
      "outputs": [],
      "source": [
        "data['Cantidad Máxima'] = (data['Cantidad Máxima'].str.replace('\\D', ''))\n",
        "data['Cantidad Mínima'] = (data['Cantidad Mínima'].str.replace('\\D', ''))\n",
        "data['Cantidad Máxima'] = data['Cantidad Máxima'].astype(int)\n",
        "data['Cantidad Mínima'] = data['Cantidad Mínima'].astype(int)"
      ]
    },
    {
      "cell_type": "code",
      "execution_count": null,
      "metadata": {
        "id": "2WgKBFZvGLqZ"
      },
      "outputs": [],
      "source": [
        "for index, num in enumerate(data['Cantidad Máxima']):\n",
        "  print('{} {}'.format(index, int(num)))"
      ]
    }
  ],
  "metadata": {
    "colab": {
      "authorship_tag": "ABX9TyMAWMl3H/WVPYuyhDx7WHjE",
      "collapsed_sections": [],
      "include_colab_link": true,
      "name": "clasificacion.ipynb",
      "provenance": []
    },
    "kernelspec": {
      "display_name": "Python 3",
      "name": "python3"
    },
    "language_info": {
      "codemirror_mode": {
        "name": "ipython",
        "version": 3
      },
      "file_extension": ".py",
      "mimetype": "text/x-python",
      "name": "python",
      "nbconvert_exporter": "python",
      "pygments_lexer": "ipython3",
      "version": "3.9.9"
    }
  },
  "nbformat": 4,
  "nbformat_minor": 0
}
