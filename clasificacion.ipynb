{
  "cells": [
    {
      "cell_type": "markdown",
      "metadata": {
        "colab_type": "text",
        "id": "view-in-github"
      },
      "source": [
        "<a href=\"https://colab.research.google.com/github/bjimenezTechnodomus/licitaciones/blob/main/clasificacion.ipynb\" target=\"_parent\"><img src=\"https://colab.research.google.com/assets/colab-badge.svg\" alt=\"Open In Colab\"/></a>"
      ]
    },
    {
      "cell_type": "code",
      "execution_count": 16,
      "metadata": {
        "id": "1Sj5s7VFtTjh"
      },
      "outputs": [],
      "source": [
        "import gspread\n",
        "\n",
        "import pandas as pd\n",
        "import re\n",
        "\n",
        "gc = gspread.service_account()"
      ]
    },
    {
      "cell_type": "code",
      "execution_count": 2,
      "metadata": {
        "colab": {
          "base_uri": "https://localhost:8080/",
          "height": 808
        },
        "id": "M-55WjBj79-B",
        "outputId": "d3b5a208-3d87-486e-a663-dd24771e2d70"
      },
      "outputs": [
        {
          "name": "stdout",
          "output_type": "stream",
          "text": [
            "<class 'pandas.core.frame.DataFrame'>\n",
            "Int64Index: 197716 entries, 1 to 197716\n",
            "Data columns (total 19 columns):\n",
            " #   Column                    Non-Null Count   Dtype \n",
            "---  ------                    --------------   ----- \n",
            " 0   Id_Partida                197716 non-null  object\n",
            " 1   Archivo_Origen            197716 non-null  object\n",
            " 2   Consecutivo               197716 non-null  object\n",
            " 3   Número del Procedimiento  197716 non-null  object\n",
            " 4   Tipo de Procedimiento     197716 non-null  object\n",
            " 5   Convocante                197716 non-null  object\n",
            " 6   Par- tida                 197716 non-null  object\n",
            " 7   Cantidad Mínima           197716 non-null  object\n",
            " 8   Cantidad Máxima           197716 non-null  object\n",
            " 9   Unidad                    197716 non-null  object\n",
            " 10  Descripción               197716 non-null  object\n",
            " 11  Descripción de la Clave   197716 non-null  object\n",
            " 12  Observaciones             197716 non-null  object\n",
            " 13  Grupo de productos        197716 non-null  object\n",
            " 14  Estaba equivocada         197716 non-null  object\n",
            " 15  Cuadro Básico             197716 non-null  object\n",
            " 16  Nos interesa              197716 non-null  object\n",
            " 17  Razones                   197716 non-null  object\n",
            " 18  Grupo Productos           197716 non-null  object\n",
            "dtypes: object(19)\n",
            "memory usage: 30.2+ MB\n"
          ]
        },
        {
          "data": {
            "text/plain": [
              "None"
            ]
          },
          "metadata": {},
          "output_type": "display_data"
        },
        {
          "data": {
            "text/html": [
              "<div>\n",
              "<style scoped>\n",
              "    .dataframe tbody tr th:only-of-type {\n",
              "        vertical-align: middle;\n",
              "    }\n",
              "\n",
              "    .dataframe tbody tr th {\n",
              "        vertical-align: top;\n",
              "    }\n",
              "\n",
              "    .dataframe thead th {\n",
              "        text-align: right;\n",
              "    }\n",
              "</style>\n",
              "<table border=\"1\" class=\"dataframe\">\n",
              "  <thead>\n",
              "    <tr style=\"text-align: right;\">\n",
              "      <th></th>\n",
              "      <th>Id_Partida</th>\n",
              "      <th>Archivo_Origen</th>\n",
              "      <th>Consecutivo</th>\n",
              "      <th>Número del Procedimiento</th>\n",
              "      <th>Tipo de Procedimiento</th>\n",
              "      <th>Convocante</th>\n",
              "      <th>Par- tida</th>\n",
              "      <th>Cantidad Mínima</th>\n",
              "      <th>Cantidad Máxima</th>\n",
              "      <th>Unidad</th>\n",
              "      <th>Descripción</th>\n",
              "      <th>Descripción de la Clave</th>\n",
              "      <th>Observaciones</th>\n",
              "      <th>Grupo de productos</th>\n",
              "      <th>Estaba equivocada</th>\n",
              "      <th>Cuadro Básico</th>\n",
              "      <th>Nos interesa</th>\n",
              "      <th>Razones</th>\n",
              "      <th>Grupo Productos</th>\n",
              "    </tr>\n",
              "  </thead>\n",
              "  <tbody>\n",
              "    <tr>\n",
              "      <th>count</th>\n",
              "      <td>197716</td>\n",
              "      <td>197716</td>\n",
              "      <td>197716</td>\n",
              "      <td>197716</td>\n",
              "      <td>197716</td>\n",
              "      <td>197716</td>\n",
              "      <td>197716</td>\n",
              "      <td>197716</td>\n",
              "      <td>197716</td>\n",
              "      <td>197716</td>\n",
              "      <td>197716</td>\n",
              "      <td>197716</td>\n",
              "      <td>197716</td>\n",
              "      <td>197716</td>\n",
              "      <td>197716</td>\n",
              "      <td>197716</td>\n",
              "      <td>197716</td>\n",
              "      <td>197716</td>\n",
              "      <td>197716</td>\n",
              "    </tr>\n",
              "    <tr>\n",
              "      <th>unique</th>\n",
              "      <td>196155</td>\n",
              "      <td>98</td>\n",
              "      <td>11000</td>\n",
              "      <td>5826</td>\n",
              "      <td>6</td>\n",
              "      <td>542</td>\n",
              "      <td>4779</td>\n",
              "      <td>2262</td>\n",
              "      <td>7341</td>\n",
              "      <td>4826</td>\n",
              "      <td>144208</td>\n",
              "      <td>15</td>\n",
              "      <td>9</td>\n",
              "      <td>14</td>\n",
              "      <td>4</td>\n",
              "      <td>17500</td>\n",
              "      <td>2</td>\n",
              "      <td>50</td>\n",
              "      <td>44</td>\n",
              "    </tr>\n",
              "    <tr>\n",
              "      <th>top</th>\n",
              "      <td></td>\n",
              "      <td>10OH0SuqpTiohriWJiBOBehIAMDsAqTLWviTXKrpIKIs</td>\n",
              "      <td>1</td>\n",
              "      <td>LA-051GYN047-E66-2021</td>\n",
              "      <td>Adjudicación Directa</td>\n",
              "      <td>IMSS-Coordinación de Abastecimiento y Equipami...</td>\n",
              "      <td>1</td>\n",
              "      <td></td>\n",
              "      <td>1</td>\n",
              "      <td></td>\n",
              "      <td>060.456.0631.00 GUANTES. DE NITRILO O POLIBUTA...</td>\n",
              "      <td>Material de Curación</td>\n",
              "      <td></td>\n",
              "      <td>No incluye</td>\n",
              "      <td>No</td>\n",
              "      <td></td>\n",
              "      <td></td>\n",
              "      <td></td>\n",
              "      <td></td>\n",
              "    </tr>\n",
              "    <tr>\n",
              "      <th>freq</th>\n",
              "      <td>7</td>\n",
              "      <td>5845</td>\n",
              "      <td>100</td>\n",
              "      <td>4120</td>\n",
              "      <td>66382</td>\n",
              "      <td>7031</td>\n",
              "      <td>5044</td>\n",
              "      <td>157523</td>\n",
              "      <td>29906</td>\n",
              "      <td>37272</td>\n",
              "      <td>68</td>\n",
              "      <td>122483</td>\n",
              "      <td>195146</td>\n",
              "      <td>194547</td>\n",
              "      <td>196607</td>\n",
              "      <td>95261</td>\n",
              "      <td>178401</td>\n",
              "      <td>169282</td>\n",
              "      <td>194968</td>\n",
              "    </tr>\n",
              "  </tbody>\n",
              "</table>\n",
              "</div>"
            ],
            "text/plain": [
              "0      Id_Partida                                Archivo_Origen Consecutivo  \\\n",
              "count      197716                                        197716      197716   \n",
              "unique     196155                                            98       11000   \n",
              "top                10OH0SuqpTiohriWJiBOBehIAMDsAqTLWviTXKrpIKIs           1   \n",
              "freq            7                                          5845         100   \n",
              "\n",
              "0      Número del Procedimiento Tipo de Procedimiento  \\\n",
              "count                    197716                197716   \n",
              "unique                     5826                     6   \n",
              "top       LA-051GYN047-E66-2021  Adjudicación Directa   \n",
              "freq                       4120                 66382   \n",
              "\n",
              "0                                              Convocante Par- tida  \\\n",
              "count                                              197716    197716   \n",
              "unique                                                542      4779   \n",
              "top     IMSS-Coordinación de Abastecimiento y Equipami...         1   \n",
              "freq                                                 7031      5044   \n",
              "\n",
              "0      Cantidad Mínima Cantidad Máxima  Unidad  \\\n",
              "count           197716          197716  197716   \n",
              "unique            2262            7341    4826   \n",
              "top                                  1           \n",
              "freq            157523           29906   37272   \n",
              "\n",
              "0                                             Descripción  \\\n",
              "count                                              197716   \n",
              "unique                                             144208   \n",
              "top     060.456.0631.00 GUANTES. DE NITRILO O POLIBUTA...   \n",
              "freq                                                   68   \n",
              "\n",
              "0      Descripción de la Clave Observaciones Grupo de productos  \\\n",
              "count                   197716        197716             197716   \n",
              "unique                      15             9                 14   \n",
              "top       Material de Curación                       No incluye   \n",
              "freq                    122483        195146             194547   \n",
              "\n",
              "0      Estaba equivocada Cuadro Básico Nos interesa Razones Grupo Productos  \n",
              "count             197716        197716       197716  197716          197716  \n",
              "unique                 4         17500            2      50              44  \n",
              "top                   No                                                     \n",
              "freq              196607         95261       178401  169282          194968  "
            ]
          },
          "metadata": {},
          "output_type": "display_data"
        }
      ],
      "source": [
        "worksheet = gc.open('Total partidas').sheet1\n",
        "\n",
        "rows = worksheet.get_all_values()\n",
        "\n",
        "data = pd.DataFrame.from_records(rows)\n",
        "data.columns = data.iloc[0]\n",
        "data.drop(0, inplace=True)\n",
        "display(data.info())\n",
        "display(data.describe())\n",
        "respaldo = data.copy(deep=True)"
      ]
    },
    {
      "cell_type": "code",
      "execution_count": 4,
      "metadata": {
        "id": "_nh3QYGam1Nr"
      },
      "outputs": [
        {
          "name": "stderr",
          "output_type": "stream",
          "text": [
            "/home/mauricio/.local/lib/python3.9/site-packages/pandas/core/frame.py:3599: SettingWithCopyWarning: \n",
            "A value is trying to be set on a copy of a slice from a DataFrame.\n",
            "Try using .loc[row_indexer,col_indexer] = value instead\n",
            "\n",
            "See the caveats in the documentation: https://pandas.pydata.org/pandas-docs/stable/user_guide/indexing.html#returning-a-view-versus-a-copy\n",
            "  self._set_item_frame_value(key, value)\n",
            "/home/mauricio/.local/lib/python3.9/site-packages/pandas/core/frame.py:3607: SettingWithCopyWarning: \n",
            "A value is trying to be set on a copy of a slice from a DataFrame.\n",
            "Try using .loc[row_indexer,col_indexer] = value instead\n",
            "\n",
            "See the caveats in the documentation: https://pandas.pydata.org/pandas-docs/stable/user_guide/indexing.html#returning-a-view-versus-a-copy\n",
            "  self._set_item(key, value)\n",
            "/home/mauricio/.local/lib/python3.9/site-packages/pandas/core/generic.py:8861: SettingWithCopyWarning: \n",
            "A value is trying to be set on a copy of a slice from a DataFrame\n",
            "\n",
            "See the caveats in the documentation: https://pandas.pydata.org/pandas-docs/stable/user_guide/indexing.html#returning-a-view-versus-a-copy\n",
            "  return self._update_inplace(result)\n"
          ]
        },
        {
          "data": {
            "text/plain": [
              "                                    194968\n",
              "bolsa / rollo mixta papel             1034\n",
              "indicadores biologicos                 341\n",
              "indicadores quimicos                   262\n",
              "vapor                                  171\n",
              "plasma                                 166\n",
              "mastografias                           143\n",
              "lavado y cuidado de instrumental        96\n",
              "filme plano                             74\n",
              "pelicula dry                            58\n",
              "bolsa / rollo tyvek                     56\n",
              "envoltura material no tejido            53\n",
              "dr                                      52\n",
              "desinfectantes                          48\n",
              "selladoras                              43\n",
              "contenedores                            24\n",
              "incubadoras                             23\n",
              "licenciamiento                          16\n",
              "lavadoras ultrasonicas                  13\n",
              "bolsa / rollo material no tejido        11\n",
              "lavadoras ultrasónicas                  10\n",
              "pelicula y quimicos dental              10\n",
              "cr                                       8\n",
              "monitores grado medico                   7\n",
              "lavadoras termodesinfectoras             7\n",
              "arcos en c                               6\n",
              "retos ind. quimico                       4\n",
              "servicios profesionales                  4\n",
              "quimicos para revelado                   3\n",
              "tomografia                               3\n",
              "resonancia                               2\n",
              "Name: grupo_2, dtype: int64"
            ]
          },
          "execution_count": 4,
          "metadata": {},
          "output_type": "execute_result"
        }
      ],
      "source": [
        "data = respaldo[['Id_Partida', 'Convocante', 'Descripción', 'Descripción de la Clave', 'Grupo de productos', 'Cuadro Básico', 'Nos interesa', 'Grupo Productos']]\n",
        "data.columns = ['id', 'convocante', 'descripcion', 'clave', 'grupo_1', 'cuadro_basico', 'interes', 'grupo_2']\n",
        "data['cuadro_2'] = data['descripcion'].str.extract(r'(\\d{3}[\\.\\s-]\\d{3}[\\.\\s-]\\d{4})').replace(r'[\\s-]', '.')\n",
        "CATEGORIAS = ['grupo_1', 'clave', 'interes', 'grupo_2']\n",
        "data['grupo_2'] = data['grupo_2'].str.lower()\n",
        "data['descripcion'] = data['descripcion'].str.lower()\n",
        "data['grupo_2'][data['grupo_2'] == 'película y químicos dental'] = 'pelicula y quimicos dental'\n",
        "data['grupo_2'][data['grupo_2'] == 'retos ind. quimicos'] = 'indicadores quimicos'\n",
        "data['grupo_2'][data['grupo_2'] == 'reveladoras y casetas análogas'] = 'filme plano'\n",
        "data['grupo_2'][data['grupo_2'] == 'mastografía'] = 'mastografias'\n",
        "data['grupo_2'][data['grupo_2'] == 'rayos x digital'] = 'dr'\n",
        "data['grupo_2'][data['grupo_2'] == 'mesa de rayos x'] = 'dr'\n",
        "data['grupo_2'][data['grupo_2'] == 'dental digital'] = 'dr'\n",
        "data['grupo_2'][data['grupo_2'] == 'película dry'] = 'pelicula dry'\n",
        "data['grupo_2'][data['grupo_2'] == 'automaticas'] = 'servicios profesionales'\n",
        "data['grupo_2'][data['grupo_2'] == 'impresoras'] = 'pelicula dry'\n",
        "data['grupo_2'][data['grupo_2'] == 'pacs/ris'] = 'dr'\n",
        "data[CATEGORIAS] = data[CATEGORIAS].apply(lambda x: x.astype('category'), axis=0)\n",
        "categorias_dumies = pd.get_dummies(data[CATEGORIAS])\n",
        "grupo_tech = pd.get_dummies(data['grupo_1'])\n",
        "data['grupo_2'].value_counts()"
      ]
    },
    {
      "cell_type": "markdown",
      "metadata": {},
      "source": [
        "# Modelo de clasificación con todos los datos\n",
        "\n",
        "Para generar un modelo de clasificación de los datos de las partidas a partir de regresión logística."
      ]
    },
    {
      "cell_type": "code",
      "execution_count": 5,
      "metadata": {
        "id": "Et93mVfHFqUX"
      },
      "outputs": [],
      "source": [
        "y = data['grupo_2']\n",
        "X = data.drop('grupo_2', axis=1)\n",
        "from sklearn.model_selection import StratifiedShuffleSplit\n",
        "split = StratifiedShuffleSplit(n_splits=1, test_size=0.2, random_state=42)\n",
        "for train_index, test_index in split.split(X, y):\n",
        "  X_train = X.iloc[train_index]\n",
        "  X_test = X.iloc[test_index]\n",
        "  y_train = y.iloc[train_index]\n",
        "  y_test = y.iloc[test_index]\n"
      ]
    },
    {
      "cell_type": "code",
      "execution_count": 6,
      "metadata": {
        "colab": {
          "base_uri": "https://localhost:8080/",
          "height": 34
        },
        "id": "nj0LUZqbz1MG",
        "outputId": "dac19f2d-18ba-419c-b1bb-3428b0f4d812"
      },
      "outputs": [
        {
          "name": "stderr",
          "output_type": "stream",
          "text": [
            "/home/mauricio/.local/lib/python3.9/site-packages/pandas/core/generic.py:6383: SettingWithCopyWarning: \n",
            "A value is trying to be set on a copy of a slice from a DataFrame\n",
            "\n",
            "See the caveats in the documentation: https://pandas.pydata.org/pandas-docs/stable/user_guide/indexing.html#returning-a-view-versus-a-copy\n",
            "  return self._update_inplace(result)\n",
            "/home/linuxbrew/.linuxbrew/opt/python@3.9/lib/python3.9/site-packages/sklearn/linear_model/_logistic.py:814: ConvergenceWarning: lbfgs failed to converge (status=1):\n",
            "STOP: TOTAL NO. of ITERATIONS REACHED LIMIT.\n",
            "\n",
            "Increase the number of iterations (max_iter) or scale the data as shown in:\n",
            "    https://scikit-learn.org/stable/modules/preprocessing.html\n",
            "Please also refer to the documentation for alternative solver options:\n",
            "    https://scikit-learn.org/stable/modules/linear_model.html#logistic-regression\n",
            "  n_iter_i = _check_optimize_result(\n"
          ]
        },
        {
          "data": {
            "text/plain": [
              "Pipeline(steps=[('vec', CountVectorizer(token_pattern='[A-Za-z0-9]+(?=\\\\s+)')),\n",
              "                ('clf',\n",
              "                 OneVsRestClassifier(estimator=LogisticRegression(max_iter=200)))])"
            ]
          },
          "execution_count": 6,
          "metadata": {},
          "output_type": "execute_result"
        }
      ],
      "source": [
        "from sklearn.pipeline import Pipeline\n",
        "from sklearn.feature_extraction.text import CountVectorizer\n",
        "from sklearn.linear_model import LogisticRegression\n",
        "from sklearn.multiclass import OneVsRestClassifier\n",
        "\n",
        "tokens = '[A-Za-z0-9]+(?=\\\\s+)'\n",
        "\n",
        "X_train['descripcion'].fillna('', inplace=True)\n",
        "\n",
        "vectorizer = CountVectorizer(token_pattern= tokens)\n",
        "vectorizer.fit_transform(X_train['descripcion'])\n",
        "\n",
        "pl = Pipeline([\n",
        "    ('vec', CountVectorizer(token_pattern = tokens)),\n",
        "    ('clf', OneVsRestClassifier(LogisticRegression(max_iter=200)))\n",
        "])\n",
        "\n",
        "pl.fit(X_train['descripcion'], y_train)"
      ]
    },
    {
      "cell_type": "code",
      "execution_count": 70,
      "metadata": {},
      "outputs": [
        {
          "name": "stderr",
          "output_type": "stream",
          "text": [
            "/home/mauricio/.local/lib/python3.9/site-packages/pandas/core/frame.py:4901: SettingWithCopyWarning: \n",
            "A value is trying to be set on a copy of a slice from a DataFrame\n",
            "\n",
            "See the caveats in the documentation: https://pandas.pydata.org/pandas-docs/stable/user_guide/indexing.html#returning-a-view-versus-a-copy\n",
            "  return super().drop(\n"
          ]
        },
        {
          "data": {
            "text/plain": [
              "Pipeline(steps=[('vec', CountVectorizer(token_pattern='[A-Za-z0-9]+(?=\\\\s+)')),\n",
              "                ('clf',\n",
              "                 OneVsRestClassifier(estimator=LogisticRegression(max_iter=200)))])"
            ]
          },
          "execution_count": 70,
          "metadata": {},
          "output_type": "execute_result"
        }
      ],
      "source": [
        "import numpy as np\n",
        "\n",
        "data2 = data.sort_values('grupo_2')\n",
        "no_producto = data2.iloc[0:116984]\n",
        "productos = data2.iloc[116985:]\n",
        "drops = np.random.choice(no_producto.index, 100000, replace=False)\n",
        "no_producto.drop(drops, inplace=True)\n",
        "data2 = pd.concat([no_producto, productos])\n",
        "X2 = data2.drop('grupo_2', axis=1)\n",
        "y2 = data2['grupo_2']\n",
        "X2['descripcion'].fillna('', inplace=True)\n",
        "vec = CountVectorizer(token_pattern=tokens)\n",
        "vec.fit_transform(X_train['descripcion'])\n",
        "pl.fit(X2['descripcion'], y2)\n"
      ]
    },
    {
      "cell_type": "code",
      "execution_count": 74,
      "metadata": {},
      "outputs": [],
      "source": [
        "data2[['descripcion', 'cuadro_2', 'grupo_2']].to_csv('datos_entrenamiento.csv', index=False)\n"
      ]
    },
    {
      "cell_type": "markdown",
      "metadata": {
        "id": "2gJCJZdqlNls"
      },
      "source": [
        "# Clasificación con Spacy\n",
        "\n",
        "Una prueba para mejorar el modelo usando los modelos preentrenados de spacy"
      ]
    },
    {
      "cell_type": "code",
      "execution_count": null,
      "metadata": {
        "id": "UStTKCsQNgYn"
      },
      "outputs": [],
      "source": [
        "# Ejemplo usando Spacy para la clasificaión de las partidas\n",
        "!pip install --upgrade spacy"
      ]
    },
    {
      "cell_type": "code",
      "execution_count": 8,
      "metadata": {
        "id": "t1InON0rhj-x"
      },
      "outputs": [],
      "source": [
        "import spacy\n",
        "nlp = spacy.blank('es')\n",
        "textcat = nlp.add_pipe('textcat')\n",
        "labels = data['grupo_2'].unique()\n",
        "for label in labels:\n",
        "  textcat.add_label(label)\n",
        "\n",
        "train_text = data['descripcion'].values\n",
        "train_labels = [{'cats': {label: case == label for label in labels}} for case in data['grupo_2']]\n",
        "train_data = list(zip(train_text, train_labels))\n",
        "train_data[:3]"
      ]
    },
    {
      "cell_type": "code",
      "execution_count": 10,
      "metadata": {
        "id": "-BHke_Pmw3HE"
      },
      "outputs": [],
      "source": [
        "from spacy.util import minibatch\n",
        "from spacy.training.example import Example \n",
        "\n",
        "spacy.util.fix_random_seed(1)\n",
        "optimizer = nlp.begin_training()\n",
        "\n",
        "batches = minibatch(train_data, size=10)\n",
        "for batch in batches:\n",
        "  for text, labels in batch:\n",
        "    doc = nlp.make_doc(text)\n",
        "    example = Example.from_dict(doc, labels)\n",
        "    nlp.update([example], sgd=optimizer)"
      ]
    },
    {
      "cell_type": "markdown",
      "metadata": {
        "id": "mGhQXoTvNK0t"
      },
      "source": [
        "## Ejemplo de aplicación del modelado\n",
        "\n",
        "Este es un ejemplo del uso del algoritmo en un archivo anterior de partidas."
      ]
    },
    {
      "cell_type": "code",
      "execution_count": 23,
      "metadata": {
        "colab": {
          "base_uri": "https://localhost:8080/",
          "height": 235
        },
        "id": "P40Xk41TA6uX",
        "outputId": "f3ef71f0-ffd6-41ca-fb03-be00cfb4fd84"
      },
      "outputs": [
        {
          "data": {
            "text/html": [
              "<div>\n",
              "<style scoped>\n",
              "    .dataframe tbody tr th:only-of-type {\n",
              "        vertical-align: middle;\n",
              "    }\n",
              "\n",
              "    .dataframe tbody tr th {\n",
              "        vertical-align: top;\n",
              "    }\n",
              "\n",
              "    .dataframe thead th {\n",
              "        text-align: right;\n",
              "    }\n",
              "</style>\n",
              "<table border=\"1\" class=\"dataframe\">\n",
              "  <thead>\n",
              "    <tr style=\"text-align: right;\">\n",
              "      <th></th>\n",
              "      <th>Número del Procedimiento</th>\n",
              "      <th>Tipo de Procedimiento</th>\n",
              "      <th>Convocante</th>\n",
              "      <th>Par- tida</th>\n",
              "      <th>Cantidad Mínima</th>\n",
              "      <th>Cantidad Máxima</th>\n",
              "      <th>Unidad</th>\n",
              "      <th>Descripción</th>\n",
              "      <th>Descripción de la Clave</th>\n",
              "      <th>Observaciones</th>\n",
              "    </tr>\n",
              "  </thead>\n",
              "  <tbody>\n",
              "    <tr>\n",
              "      <th>count</th>\n",
              "      <td>2791</td>\n",
              "      <td>2791</td>\n",
              "      <td>2791</td>\n",
              "      <td>2791</td>\n",
              "      <td>2791</td>\n",
              "      <td>2791</td>\n",
              "      <td>2791</td>\n",
              "      <td>2791</td>\n",
              "      <td>2791</td>\n",
              "      <td>2791</td>\n",
              "    </tr>\n",
              "    <tr>\n",
              "      <th>unique</th>\n",
              "      <td>30</td>\n",
              "      <td>5</td>\n",
              "      <td>19</td>\n",
              "      <td>1774</td>\n",
              "      <td>105</td>\n",
              "      <td>602</td>\n",
              "      <td>115</td>\n",
              "      <td>2004</td>\n",
              "      <td>5</td>\n",
              "      <td>2</td>\n",
              "    </tr>\n",
              "    <tr>\n",
              "      <th>top</th>\n",
              "      <td>LP-919044992-I03-2022</td>\n",
              "      <td>Licitación</td>\n",
              "      <td>Servicios de Salud de Nuevo León - Servicios d...</td>\n",
              "      <td>1</td>\n",
              "      <td></td>\n",
              "      <td>Min. Max.</td>\n",
              "      <td>PIEZA C/1</td>\n",
              "      <td>600040109 (material de curacion ren.1) abatele...</td>\n",
              "      <td>Material de Curación</td>\n",
              "      <td></td>\n",
              "    </tr>\n",
              "    <tr>\n",
              "      <th>freq</th>\n",
              "      <td>1774</td>\n",
              "      <td>1941</td>\n",
              "      <td>1774</td>\n",
              "      <td>25</td>\n",
              "      <td>2472</td>\n",
              "      <td>388</td>\n",
              "      <td>1018</td>\n",
              "      <td>3</td>\n",
              "      <td>2322</td>\n",
              "      <td>2787</td>\n",
              "    </tr>\n",
              "  </tbody>\n",
              "</table>\n",
              "</div>"
            ],
            "text/plain": [
              "0      Número del Procedimiento Tipo de Procedimiento  \\\n",
              "count                      2791                  2791   \n",
              "unique                       30                     5   \n",
              "top       LP-919044992-I03-2022            Licitación   \n",
              "freq                       1774                  1941   \n",
              "\n",
              "0                                              Convocante Par- tida  \\\n",
              "count                                                2791      2791   \n",
              "unique                                                 19      1774   \n",
              "top     Servicios de Salud de Nuevo León - Servicios d...         1   \n",
              "freq                                                 1774        25   \n",
              "\n",
              "0      Cantidad Mínima Cantidad Máxima     Unidad  \\\n",
              "count             2791            2791       2791   \n",
              "unique             105             602        115   \n",
              "top                          Min. Max.  PIEZA C/1   \n",
              "freq              2472             388       1018   \n",
              "\n",
              "0                                             Descripción  \\\n",
              "count                                                2791   \n",
              "unique                                               2004   \n",
              "top     600040109 (material de curacion ren.1) abatele...   \n",
              "freq                                                    3   \n",
              "\n",
              "0      Descripción de la Clave Observaciones  \n",
              "count                     2791          2791  \n",
              "unique                       5             2  \n",
              "top       Material de Curación                \n",
              "freq                      2322          2787  "
            ]
          },
          "metadata": {},
          "output_type": "display_data"
        }
      ],
      "source": [
        "ejemplo = gc.open_by_key('1icObUrZVWNNgpvMS4DkCd-cH47VwmwI2FLa_0TBys9Y')\n",
        "ejemplo = ejemplo.get_worksheet(1)\n",
        "rows = ejemplo.get_all_values()\n",
        "ejemplo = pd.DataFrame.from_records(rows)\n",
        "ejemplo.columns = ejemplo.iloc[0]\n",
        "ejemplo.drop(0, inplace=True)\n",
        "ejemplo['Descripción'] = ejemplo['Descripción'].str.lower()\n",
        "display(ejemplo.describe())"
      ]
    },
    {
      "cell_type": "code",
      "execution_count": 24,
      "metadata": {},
      "outputs": [
        {
          "ename": "NameError",
          "evalue": "name 'nlp' is not defined",
          "output_type": "error",
          "traceback": [
            "\u001b[0;31m---------------------------------------------------------------------------\u001b[0m",
            "\u001b[0;31mNameError\u001b[0m                                 Traceback (most recent call last)",
            "\u001b[0;32m/tmp/ipykernel_26503/3065534134.py\u001b[0m in \u001b[0;36m<module>\u001b[0;34m\u001b[0m\n\u001b[1;32m      1\u001b[0m \u001b[0mtextos\u001b[0m \u001b[0;34m=\u001b[0m \u001b[0mejemplo\u001b[0m\u001b[0;34m[\u001b[0m\u001b[0;34m'Descripción'\u001b[0m\u001b[0;34m]\u001b[0m\u001b[0;34m\u001b[0m\u001b[0;34m\u001b[0m\u001b[0m\n\u001b[0;32m----> 2\u001b[0;31m \u001b[0mdocs\u001b[0m \u001b[0;34m=\u001b[0m \u001b[0;34m[\u001b[0m\u001b[0mnlp\u001b[0m\u001b[0;34m.\u001b[0m\u001b[0mtokenizer\u001b[0m\u001b[0;34m(\u001b[0m\u001b[0mtexto\u001b[0m\u001b[0;34m)\u001b[0m \u001b[0;32mfor\u001b[0m \u001b[0mtexto\u001b[0m \u001b[0;32min\u001b[0m \u001b[0mtextos\u001b[0m\u001b[0;34m]\u001b[0m\u001b[0;34m\u001b[0m\u001b[0;34m\u001b[0m\u001b[0m\n\u001b[0m\u001b[1;32m      3\u001b[0m \u001b[0mtextcat\u001b[0m \u001b[0;34m=\u001b[0m \u001b[0mnlp\u001b[0m\u001b[0;34m.\u001b[0m\u001b[0mget_pipe\u001b[0m\u001b[0;34m(\u001b[0m\u001b[0;34m'textcat'\u001b[0m\u001b[0;34m)\u001b[0m\u001b[0;34m\u001b[0m\u001b[0;34m\u001b[0m\u001b[0m\n\u001b[1;32m      4\u001b[0m \u001b[0mscores\u001b[0m \u001b[0;34m=\u001b[0m \u001b[0mtextcat\u001b[0m\u001b[0;34m.\u001b[0m\u001b[0mpredict\u001b[0m\u001b[0;34m(\u001b[0m\u001b[0mdocs\u001b[0m\u001b[0;34m)\u001b[0m\u001b[0;34m\u001b[0m\u001b[0;34m\u001b[0m\u001b[0m\n\u001b[1;32m      5\u001b[0m \u001b[0mpredicted_labels\u001b[0m \u001b[0;34m=\u001b[0m \u001b[0mscores\u001b[0m\u001b[0;34m.\u001b[0m\u001b[0margmax\u001b[0m\u001b[0;34m(\u001b[0m\u001b[0maxis\u001b[0m\u001b[0;34m=\u001b[0m\u001b[0;36m1\u001b[0m\u001b[0;34m)\u001b[0m\u001b[0;34m\u001b[0m\u001b[0;34m\u001b[0m\u001b[0m\n",
            "\u001b[0;32m/tmp/ipykernel_26503/3065534134.py\u001b[0m in \u001b[0;36m<listcomp>\u001b[0;34m(.0)\u001b[0m\n\u001b[1;32m      1\u001b[0m \u001b[0mtextos\u001b[0m \u001b[0;34m=\u001b[0m \u001b[0mejemplo\u001b[0m\u001b[0;34m[\u001b[0m\u001b[0;34m'Descripción'\u001b[0m\u001b[0;34m]\u001b[0m\u001b[0;34m\u001b[0m\u001b[0;34m\u001b[0m\u001b[0m\n\u001b[0;32m----> 2\u001b[0;31m \u001b[0mdocs\u001b[0m \u001b[0;34m=\u001b[0m \u001b[0;34m[\u001b[0m\u001b[0mnlp\u001b[0m\u001b[0;34m.\u001b[0m\u001b[0mtokenizer\u001b[0m\u001b[0;34m(\u001b[0m\u001b[0mtexto\u001b[0m\u001b[0;34m)\u001b[0m \u001b[0;32mfor\u001b[0m \u001b[0mtexto\u001b[0m \u001b[0;32min\u001b[0m \u001b[0mtextos\u001b[0m\u001b[0;34m]\u001b[0m\u001b[0;34m\u001b[0m\u001b[0;34m\u001b[0m\u001b[0m\n\u001b[0m\u001b[1;32m      3\u001b[0m \u001b[0mtextcat\u001b[0m \u001b[0;34m=\u001b[0m \u001b[0mnlp\u001b[0m\u001b[0;34m.\u001b[0m\u001b[0mget_pipe\u001b[0m\u001b[0;34m(\u001b[0m\u001b[0;34m'textcat'\u001b[0m\u001b[0;34m)\u001b[0m\u001b[0;34m\u001b[0m\u001b[0;34m\u001b[0m\u001b[0m\n\u001b[1;32m      4\u001b[0m \u001b[0mscores\u001b[0m \u001b[0;34m=\u001b[0m \u001b[0mtextcat\u001b[0m\u001b[0;34m.\u001b[0m\u001b[0mpredict\u001b[0m\u001b[0;34m(\u001b[0m\u001b[0mdocs\u001b[0m\u001b[0;34m)\u001b[0m\u001b[0;34m\u001b[0m\u001b[0;34m\u001b[0m\u001b[0m\n\u001b[1;32m      5\u001b[0m \u001b[0mpredicted_labels\u001b[0m \u001b[0;34m=\u001b[0m \u001b[0mscores\u001b[0m\u001b[0;34m.\u001b[0m\u001b[0margmax\u001b[0m\u001b[0;34m(\u001b[0m\u001b[0maxis\u001b[0m\u001b[0;34m=\u001b[0m\u001b[0;36m1\u001b[0m\u001b[0;34m)\u001b[0m\u001b[0;34m\u001b[0m\u001b[0;34m\u001b[0m\u001b[0m\n",
            "\u001b[0;31mNameError\u001b[0m: name 'nlp' is not defined"
          ]
        }
      ],
      "source": [
        "textos = ejemplo['Descripción']\n",
        "docs = [nlp.tokenizer(texto) for texto in textos]\n",
        "textcat = nlp.get_pipe('textcat')\n",
        "scores = textcat.predict(docs)\n",
        "predicted_labels = scores.argmax(axis=1)\n",
        "predicted_labels = [textcat.labels[label] for label in predicted_labels]\n",
        "ejemplo['prediccion'] = predicted_labels\n",
        "\n",
        "# Los resultados de las predicciones fueron peores que con regresión lógistica de sklearn con un tiempo de entrenamiento de 75 min."
      ]
    },
    {
      "cell_type": "code",
      "execution_count": 25,
      "metadata": {
        "colab": {
          "base_uri": "https://localhost:8080/",
          "height": 4236
        },
        "id": "ZfaRICwjCuIe",
        "outputId": "49973a01-8a43-4c3f-84bf-14c189c43843"
      },
      "outputs": [
        {
          "data": {
            "text/html": [
              "<div>\n",
              "<style scoped>\n",
              "    .dataframe tbody tr th:only-of-type {\n",
              "        vertical-align: middle;\n",
              "    }\n",
              "\n",
              "    .dataframe tbody tr th {\n",
              "        vertical-align: top;\n",
              "    }\n",
              "\n",
              "    .dataframe thead th {\n",
              "        text-align: right;\n",
              "    }\n",
              "</style>\n",
              "<table border=\"1\" class=\"dataframe\">\n",
              "  <thead>\n",
              "    <tr style=\"text-align: right;\">\n",
              "      <th></th>\n",
              "      <th>Número del Procedimiento</th>\n",
              "      <th>Tipo de Procedimiento</th>\n",
              "      <th>Convocante</th>\n",
              "      <th>Par- tida</th>\n",
              "      <th>Cantidad Mínima</th>\n",
              "      <th>Cantidad Máxima</th>\n",
              "      <th>Unidad</th>\n",
              "      <th>Descripción</th>\n",
              "      <th>Descripción de la Clave</th>\n",
              "      <th>Observaciones</th>\n",
              "      <th>prediccion</th>\n",
              "    </tr>\n",
              "  </thead>\n",
              "  <tbody>\n",
              "    <tr>\n",
              "      <th>1</th>\n",
              "      <td>LA-012NCZ001-E7-2022</td>\n",
              "      <td>Licitación</td>\n",
              "      <td>INP-Dirección de Administración #012NCZ001</td>\n",
              "      <td>1</td>\n",
              "      <td>12</td>\n",
              "      <td>30</td>\n",
              "      <td>PZA</td>\n",
              "      <td>060.040.0840 (material de curacion ren.1) aguj...</td>\n",
              "      <td>Material Médico [biopsia*]</td>\n",
              "      <td></td>\n",
              "      <td></td>\n",
              "    </tr>\n",
              "    <tr>\n",
              "      <th>2</th>\n",
              "      <td>LA-012NCZ001-E7-2022</td>\n",
              "      <td>Licitación</td>\n",
              "      <td>INP-Dirección de Administración #012NCZ001</td>\n",
              "      <td>2</td>\n",
              "      <td>54</td>\n",
              "      <td>135</td>\n",
              "      <td>PZA</td>\n",
              "      <td>060.040.0303 (material de curacion ren.2) aguj...</td>\n",
              "      <td>Material de Curación</td>\n",
              "      <td></td>\n",
              "      <td></td>\n",
              "    </tr>\n",
              "    <tr>\n",
              "      <th>3</th>\n",
              "      <td>LA-012NCZ001-E7-2022</td>\n",
              "      <td>Licitación</td>\n",
              "      <td>INP-Dirección de Administración #012NCZ001</td>\n",
              "      <td>3</td>\n",
              "      <td>5</td>\n",
              "      <td>12</td>\n",
              "      <td>ENV</td>\n",
              "      <td>060.046.1396 (material de curacion ren.3) alam...</td>\n",
              "      <td>Material de Curación</td>\n",
              "      <td></td>\n",
              "      <td></td>\n",
              "    </tr>\n",
              "    <tr>\n",
              "      <th>4</th>\n",
              "      <td>LA-012NCZ001-E7-2022</td>\n",
              "      <td>Licitación</td>\n",
              "      <td>INP-Dirección de Administración #012NCZ001</td>\n",
              "      <td>4</td>\n",
              "      <td>5</td>\n",
              "      <td>12</td>\n",
              "      <td>ENV</td>\n",
              "      <td>060.066.0401 (material de curacion ren.4) anti...</td>\n",
              "      <td>Material de Curación</td>\n",
              "      <td></td>\n",
              "      <td></td>\n",
              "    </tr>\n",
              "    <tr>\n",
              "      <th>5</th>\n",
              "      <td>LA-012NCZ001-E7-2022</td>\n",
              "      <td>Licitación</td>\n",
              "      <td>INP-Dirección de Administración #012NCZ001</td>\n",
              "      <td>5</td>\n",
              "      <td>191</td>\n",
              "      <td>477</td>\n",
              "      <td>ENV</td>\n",
              "      <td>060.082.0054 (material de curacion ren.5) apli...</td>\n",
              "      <td>Material de Curación</td>\n",
              "      <td></td>\n",
              "      <td></td>\n",
              "    </tr>\n",
              "    <tr>\n",
              "      <th>...</th>\n",
              "      <td>...</td>\n",
              "      <td>...</td>\n",
              "      <td>...</td>\n",
              "      <td>...</td>\n",
              "      <td>...</td>\n",
              "      <td>...</td>\n",
              "      <td>...</td>\n",
              "      <td>...</td>\n",
              "      <td>...</td>\n",
              "      <td>...</td>\n",
              "      <td>...</td>\n",
              "    </tr>\n",
              "    <tr>\n",
              "      <th>2787</th>\n",
              "      <td>AA-051GYN085-E1-2022</td>\n",
              "      <td>Adjudicación Directa</td>\n",
              "      <td>ISSSTE-Hospital Regional Gral. Ignacio Zaragoz...</td>\n",
              "      <td>19</td>\n",
              "      <td></td>\n",
              "      <td>4</td>\n",
              "      <td>CAJA C/12 PZS</td>\n",
              "      <td>608411955 sutura seda negra trenzada # 1-0 caj...</td>\n",
              "      <td>Material de Curación</td>\n",
              "      <td></td>\n",
              "      <td></td>\n",
              "    </tr>\n",
              "    <tr>\n",
              "      <th>2788</th>\n",
              "      <td>AA-051GYN085-E1-2022</td>\n",
              "      <td>Adjudicación Directa</td>\n",
              "      <td>ISSSTE-Hospital Regional Gral. Ignacio Zaragoz...</td>\n",
              "      <td>20</td>\n",
              "      <td></td>\n",
              "      <td>4</td>\n",
              "      <td>CAJA C/12 PZS</td>\n",
              "      <td>608414371 sutura catgut cromico # 2-0 caja c/1...</td>\n",
              "      <td>Material de Curación</td>\n",
              "      <td></td>\n",
              "      <td></td>\n",
              "    </tr>\n",
              "    <tr>\n",
              "      <th>2789</th>\n",
              "      <td>AA-051GYN085-E1-2022</td>\n",
              "      <td>Adjudicación Directa</td>\n",
              "      <td>ISSSTE-Hospital Regional Gral. Ignacio Zaragoz...</td>\n",
              "      <td>21</td>\n",
              "      <td></td>\n",
              "      <td>10</td>\n",
              "      <td>PIEZA</td>\n",
              "      <td>609530266 venda de goma (smarch) de 6 cm. pieza</td>\n",
              "      <td>Material de Curación</td>\n",
              "      <td></td>\n",
              "      <td></td>\n",
              "    </tr>\n",
              "    <tr>\n",
              "      <th>2790</th>\n",
              "      <td>AA-051GYN085-E1-2022</td>\n",
              "      <td>Adjudicación Directa</td>\n",
              "      <td>ISSSTE-Hospital Regional Gral. Ignacio Zaragoz...</td>\n",
              "      <td>22</td>\n",
              "      <td></td>\n",
              "      <td>10</td>\n",
              "      <td>PIEZA</td>\n",
              "      <td>609530282 venda de goma (smarch) de 8 cm. pieza</td>\n",
              "      <td>Material de Curación</td>\n",
              "      <td></td>\n",
              "      <td></td>\n",
              "    </tr>\n",
              "    <tr>\n",
              "      <th>2791</th>\n",
              "      <td>AA-051GYN085-E1-2022</td>\n",
              "      <td>Adjudicación Directa</td>\n",
              "      <td>ISSSTE-Hospital Regional Gral. Ignacio Zaragoz...</td>\n",
              "      <td>23</td>\n",
              "      <td></td>\n",
              "      <td>5</td>\n",
              "      <td>GALON</td>\n",
              "      <td>705910040 gel para estudios de usg galon</td>\n",
              "      <td>Material de Laboratorio</td>\n",
              "      <td></td>\n",
              "      <td></td>\n",
              "    </tr>\n",
              "  </tbody>\n",
              "</table>\n",
              "<p>2791 rows × 11 columns</p>\n",
              "</div>"
            ],
            "text/plain": [
              "0    Número del Procedimiento Tipo de Procedimiento  \\\n",
              "1        LA-012NCZ001-E7-2022            Licitación   \n",
              "2        LA-012NCZ001-E7-2022            Licitación   \n",
              "3        LA-012NCZ001-E7-2022            Licitación   \n",
              "4        LA-012NCZ001-E7-2022            Licitación   \n",
              "5        LA-012NCZ001-E7-2022            Licitación   \n",
              "...                       ...                   ...   \n",
              "2787     AA-051GYN085-E1-2022  Adjudicación Directa   \n",
              "2788     AA-051GYN085-E1-2022  Adjudicación Directa   \n",
              "2789     AA-051GYN085-E1-2022  Adjudicación Directa   \n",
              "2790     AA-051GYN085-E1-2022  Adjudicación Directa   \n",
              "2791     AA-051GYN085-E1-2022  Adjudicación Directa   \n",
              "\n",
              "0                                            Convocante Par- tida  \\\n",
              "1            INP-Dirección de Administración #012NCZ001         1   \n",
              "2            INP-Dirección de Administración #012NCZ001         2   \n",
              "3            INP-Dirección de Administración #012NCZ001         3   \n",
              "4            INP-Dirección de Administración #012NCZ001         4   \n",
              "5            INP-Dirección de Administración #012NCZ001         5   \n",
              "...                                                 ...       ...   \n",
              "2787  ISSSTE-Hospital Regional Gral. Ignacio Zaragoz...        19   \n",
              "2788  ISSSTE-Hospital Regional Gral. Ignacio Zaragoz...        20   \n",
              "2789  ISSSTE-Hospital Regional Gral. Ignacio Zaragoz...        21   \n",
              "2790  ISSSTE-Hospital Regional Gral. Ignacio Zaragoz...        22   \n",
              "2791  ISSSTE-Hospital Regional Gral. Ignacio Zaragoz...        23   \n",
              "\n",
              "0    Cantidad Mínima Cantidad Máxima         Unidad  \\\n",
              "1                12              30             PZA   \n",
              "2                54             135             PZA   \n",
              "3                 5              12             ENV   \n",
              "4                 5              12             ENV   \n",
              "5               191             477             ENV   \n",
              "...              ...             ...            ...   \n",
              "2787                              4   CAJA C/12 PZS   \n",
              "2788                              4   CAJA C/12 PZS   \n",
              "2789                             10           PIEZA   \n",
              "2790                             10           PIEZA   \n",
              "2791                              5           GALON   \n",
              "\n",
              "0                                           Descripción  \\\n",
              "1     060.040.0840 (material de curacion ren.1) aguj...   \n",
              "2     060.040.0303 (material de curacion ren.2) aguj...   \n",
              "3     060.046.1396 (material de curacion ren.3) alam...   \n",
              "4     060.066.0401 (material de curacion ren.4) anti...   \n",
              "5     060.082.0054 (material de curacion ren.5) apli...   \n",
              "...                                                 ...   \n",
              "2787  608411955 sutura seda negra trenzada # 1-0 caj...   \n",
              "2788  608414371 sutura catgut cromico # 2-0 caja c/1...   \n",
              "2789    609530266 venda de goma (smarch) de 6 cm. pieza   \n",
              "2790    609530282 venda de goma (smarch) de 8 cm. pieza   \n",
              "2791           705910040 gel para estudios de usg galon   \n",
              "\n",
              "0        Descripción de la Clave Observaciones prediccion  \n",
              "1     Material Médico [biopsia*]                           \n",
              "2           Material de Curación                           \n",
              "3           Material de Curación                           \n",
              "4           Material de Curación                           \n",
              "5           Material de Curación                           \n",
              "...                          ...           ...        ...  \n",
              "2787        Material de Curación                           \n",
              "2788        Material de Curación                           \n",
              "2789        Material de Curación                           \n",
              "2790        Material de Curación                           \n",
              "2791     Material de Laboratorio                           \n",
              "\n",
              "[2791 rows x 11 columns]"
            ]
          },
          "execution_count": 25,
          "metadata": {},
          "output_type": "execute_result"
        }
      ],
      "source": [
        "ejemplo['prediccion'] = pl.predict(ejemplo['Descripción'])\n",
        "ejemplo"
      ]
    },
    {
      "cell_type": "code",
      "execution_count": 75,
      "metadata": {},
      "outputs": [],
      "source": [
        "todas = pd.read_csv('partidas_solicitante2.csv')\n",
        "todas['categoria'] = pl.predict(todas['descripcion'])"
      ]
    },
    {
      "cell_type": "code",
      "execution_count": 76,
      "metadata": {},
      "outputs": [],
      "source": [
        "todas.to_csv('partidas_etiquetadas.csv', index=False)"
      ]
    },
    {
      "cell_type": "markdown",
      "metadata": {
        "id": "VOOtp__6uNSE"
      },
      "source": [
        "# Procesado de los datos de Cantidades"
      ]
    },
    {
      "cell_type": "code",
      "execution_count": null,
      "metadata": {
        "id": "QXMHsDRyO9xa"
      },
      "outputs": [],
      "source": [
        "textos = [text for text in data['Cantidad Máxima'] if len(text) > 5]\n",
        "\n",
        "rango_maxmin = r'(\\d+) a (\\d+)'\n",
        "cantidad_unidad = r'(\\d+) (\\w+)'\n",
        "minmax = r'min+max'\n",
        "dos_palabras = r'([A-Z]+) +([A-Z]+)'\n",
        "miles = r'(\\d{1,3}),(\\d{3})'\n",
        "\n",
        "display(textos)"
      ]
    },
    {
      "cell_type": "code",
      "execution_count": null,
      "metadata": {
        "id": "huYuId7ogKZ4"
      },
      "outputs": [],
      "source": [
        "display([re.match(cantidad_unidad, texto).group(2) for texto in textos if re.match(cantidad_unidad, texto)])"
      ]
    },
    {
      "cell_type": "code",
      "execution_count": null,
      "metadata": {
        "id": "l3RoZZf-JA5k"
      },
      "outputs": [],
      "source": [
        "# Funciones utilitarias\n",
        "\n",
        "def num_text_to_int(text):\n",
        "  nums = ['cero', 'uno', 'dos', 'tres', 'cuatro', 'cinco', 'seis', 'siete', 'ocho', 'nueve', 'diez']"
      ]
    },
    {
      "cell_type": "code",
      "execution_count": null,
      "metadata": {
        "id": "ylEdN9oZ9CO8"
      },
      "outputs": [],
      "source": [
        "data['Cantidad Máxima'] = (data['Cantidad Máxima'].str.replace('\\D', ''))\n",
        "data['Cantidad Mínima'] = (data['Cantidad Mínima'].str.replace('\\D', ''))\n",
        "data['Cantidad Máxima'] = data['Cantidad Máxima'].astype(int)\n",
        "data['Cantidad Mínima'] = data['Cantidad Mínima'].astype(int)"
      ]
    },
    {
      "cell_type": "code",
      "execution_count": null,
      "metadata": {
        "id": "2WgKBFZvGLqZ"
      },
      "outputs": [],
      "source": [
        "for index, num in enumerate(data['Cantidad Máxima']):\n",
        "  print('{} {}'.format(index, int(num)))"
      ]
    }
  ],
  "metadata": {
    "colab": {
      "authorship_tag": "ABX9TyMAWMl3H/WVPYuyhDx7WHjE",
      "collapsed_sections": [],
      "include_colab_link": true,
      "name": "clasificacion.ipynb",
      "provenance": []
    },
    "kernelspec": {
      "display_name": "Python 3",
      "name": "python3"
    },
    "language_info": {
      "codemirror_mode": {
        "name": "ipython",
        "version": 3
      },
      "file_extension": ".py",
      "mimetype": "text/x-python",
      "name": "python",
      "nbconvert_exporter": "python",
      "pygments_lexer": "ipython3",
      "version": "3.9.9"
    }
  },
  "nbformat": 4,
  "nbformat_minor": 0
}
